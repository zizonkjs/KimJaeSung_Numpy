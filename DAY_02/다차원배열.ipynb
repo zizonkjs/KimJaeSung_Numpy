{
 "cells": [
  {
   "cell_type": "markdown",
   "metadata": {},
   "source": [
    "1. 기본개념  \n",
    "다차원 배열 : np.array는 1차원, 2차원, 3차원 또는 그 이상의 차언을 가질 수 있는 배열  \n",
    "2차원 배열은 행렬 , 3차원 배여은 큐브와 같은 형태  \n",
    "\n",
    "동일한 데이터 타입 : dtype은 모두 같아야 합니다."
   ]
  },
  {
   "cell_type": "code",
   "execution_count": 2,
   "metadata": {},
   "outputs": [
    {
     "data": {
      "text/plain": [
       "(array([1, 2, 3]),\n",
       " array([[1, 2, 3],\n",
       "        [4, 5, 6]]))"
      ]
     },
     "execution_count": 2,
     "metadata": {},
     "output_type": "execute_result"
    }
   ],
   "source": [
    "# 생성 방법\n",
    "import numpy as np\n",
    "arr1 = np.array([1,2,3])\n",
    "arr2 = np.array([[1,2,3],[4,5,6]]) # 2차원\n",
    "arr1, arr2\n"
   ]
  },
  {
   "cell_type": "markdown",
   "metadata": {},
   "source": [
    "### numpy를 사용하는 이유\n",
    "- 다차원 배열을 효율적으로 관리하고 연산할 수 있음\n",
    "- 데이터 과학, 머신러닝, 과학적 계산 등 다양한 분야에서 널리 사용됨\n",
    "- 배열의 기본 연산 부터 고급연산까지 지원함\n",
    "- 머신 러닝 및 인공지능의 데이터 전처리, 특징 추출, 모델 학습에서 사용함"
   ]
  },
  {
   "cell_type": "markdown",
   "metadata": {},
   "source": []
  }
 ],
 "metadata": {
  "kernelspec": {
   "display_name": "base",
   "language": "python",
   "name": "python3"
  },
  "language_info": {
   "codemirror_mode": {
    "name": "ipython",
    "version": 3
   },
   "file_extension": ".py",
   "mimetype": "text/x-python",
   "name": "python",
   "nbconvert_exporter": "python",
   "pygments_lexer": "ipython3",
   "version": "3.11.7"
  }
 },
 "nbformat": 4,
 "nbformat_minor": 2
}
