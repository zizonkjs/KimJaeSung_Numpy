{
 "cells": [
  {
   "cell_type": "code",
   "execution_count": 1284,
   "metadata": {},
   "outputs": [],
   "source": [
    "\n",
    "import pandas as pd\n",
    "import numpy as np\n",
    "import random"
   ]
  },
  {
   "cell_type": "code",
   "execution_count": 1285,
   "metadata": {},
   "outputs": [
    {
     "data": {
      "text/plain": [
       "array([1, 2, 3, 4, 5, 6])"
      ]
     },
     "execution_count": 1285,
     "metadata": {},
     "output_type": "execute_result"
    }
   ],
   "source": [
    "# 다차원 배열 내부의 원소를 기준으로 처리할 때 순서대로 정렬을 해서 사용가능\n",
    "a = np.linspace(1,6,6, dtype=np.int32)\n",
    "a"
   ]
  },
  {
   "cell_type": "code",
   "execution_count": 1286,
   "metadata": {},
   "outputs": [
    {
     "data": {
      "text/plain": [
       "array([3, 5, 6, 2, 1, 4])"
      ]
     },
     "execution_count": 1286,
     "metadata": {},
     "output_type": "execute_result"
    }
   ],
   "source": [
    "np.random.shuffle(a)\n",
    "a"
   ]
  },
  {
   "cell_type": "code",
   "execution_count": 1287,
   "metadata": {},
   "outputs": [
    {
     "data": {
      "text/plain": [
       "array([1, 2, 3, 4, 5, 6])"
      ]
     },
     "execution_count": 1287,
     "metadata": {},
     "output_type": "execute_result"
    }
   ],
   "source": [
    "b = np.sort(a)\n",
    "b"
   ]
  },
  {
   "cell_type": "code",
   "execution_count": 1288,
   "metadata": {},
   "outputs": [
    {
     "data": {
      "text/plain": [
       "array([1, 2, 3, 4, 5, 6])"
      ]
     },
     "execution_count": 1288,
     "metadata": {},
     "output_type": "execute_result"
    }
   ],
   "source": [
    "# argsort\n",
    "# 값을 정렬을 하지 않고 인덱스 정렬은 argsort 함수를 사용\n",
    "bb = np.linspace(1,6,6, dtype=np.int32)\n",
    "bb"
   ]
  },
  {
   "cell_type": "code",
   "execution_count": 1289,
   "metadata": {},
   "outputs": [
    {
     "data": {
      "text/plain": [
       "array([2, 1, 3, 5, 6, 4])"
      ]
     },
     "execution_count": 1289,
     "metadata": {},
     "output_type": "execute_result"
    }
   ],
   "source": [
    "np.random.shuffle(bb)\n",
    "bb"
   ]
  },
  {
   "cell_type": "code",
   "execution_count": 1290,
   "metadata": {},
   "outputs": [],
   "source": [
    "# c = np.argsrot(bb)\n",
    "# c"
   ]
  },
  {
   "cell_type": "code",
   "execution_count": 1291,
   "metadata": {},
   "outputs": [
    {
     "data": {
      "text/plain": [
       "(matrix([[1, 2, 3, 4]]), numpy.matrix)"
      ]
     },
     "execution_count": 1291,
     "metadata": {},
     "output_type": "execute_result"
    }
   ],
   "source": [
    "# 배열 클래스 변경\n",
    "# 넘파이 모듈은 다차원 배열인 ndarray와 행렬을 처리하는 matrix 클래스가 있습니다.\n",
    "# 서로 자료형을 교환 가능\n",
    "\n",
    "\n",
    "m = np.matrix([1,2,3,4])\n",
    "# matrix클래스는 2차원의 행렬을 쉽게 다를 수 있지만, ndarray를 사용하는 것이 더 권장되고있음\n",
    "# ndarray 는 일반적이고 유연한 데이터 구조로 1차원, 2차원 뿐 아니라 더 높은 차원의 배열도 처리 가능함.\n",
    "# matrix는 2차원 구조로 제한함.\n",
    "\n",
    "m, type(m)\n"
   ]
  },
  {
   "cell_type": "code",
   "execution_count": 1292,
   "metadata": {},
   "outputs": [
    {
     "data": {
      "text/plain": [
       "(array([[1, 2, 3, 4]]), numpy.ndarray)"
      ]
     },
     "execution_count": 1292,
     "metadata": {},
     "output_type": "execute_result"
    }
   ],
   "source": [
    "a = np.asarray(m)\n",
    "# np.assarray(변수)\n",
    "# 입력 데이터를 Numpy 배열('ndarray)로 변환하는데 사용함\n",
    "# 기존 데이터를 사용하여 배열을 생성함. \n",
    "# 사용하는 이유\n",
    "# 메모리 효율성\n",
    "# 데이터 호환성 : 리스트 튜플. 파이썬 스칼라의 데이터들을 배열로 변환가능함\n",
    "# 유연성 : 원래 데이터를 유지하면서 사용가능함.\n",
    "a, type(a)"
   ]
  },
  {
   "cell_type": "code",
   "execution_count": 1293,
   "metadata": {},
   "outputs": [
    {
     "data": {
      "text/plain": [
       "matrix([[1, 2, 3, 4]])"
      ]
     },
     "execution_count": 1293,
     "metadata": {},
     "output_type": "execute_result"
    }
   ],
   "source": [
    "m1 = np.asmatrix(a)\n",
    "m1"
   ]
  },
  {
   "cell_type": "code",
   "execution_count": 1294,
   "metadata": {},
   "outputs": [
    {
     "data": {
      "text/plain": [
       "array([1., 1., 1., 1., 1., 1., 1., 1., 1., 1.])"
      ]
     },
     "execution_count": 1294,
     "metadata": {},
     "output_type": "execute_result"
    }
   ],
   "source": [
    "# 배열의 값 변경\n",
    "# 다차원 배열을 ones 함수로 만들면 모든 원소의 값이 1입니다. 모든 원소를 다른 값으로 변경하려면 fill 메소드를 사용해서 변경합니다.\n",
    "# 또한 full 함수는 새로 만드는 배열의 모든 값을 동일하게 처리합니다.\n",
    "o = np.ones(10)\n",
    "o"
   ]
  },
  {
   "cell_type": "code",
   "execution_count": 1295,
   "metadata": {},
   "outputs": [
    {
     "data": {
      "text/plain": [
       "array([100., 100., 100., 100., 100., 100., 100., 100., 100., 100.])"
      ]
     },
     "execution_count": 1295,
     "metadata": {},
     "output_type": "execute_result"
    }
   ],
   "source": [
    "o.fill(100)\n",
    "o"
   ]
  },
  {
   "cell_type": "code",
   "execution_count": 1296,
   "metadata": {},
   "outputs": [
    {
     "data": {
      "text/plain": [
       "array([99., 99., 99., 99., 99., 99., 99., 99., 99., 99.])"
      ]
     },
     "execution_count": 1296,
     "metadata": {},
     "output_type": "execute_result"
    }
   ],
   "source": [
    "a = np.full(o.shape, 99.)\n",
    "a"
   ]
  },
  {
   "cell_type": "code",
   "execution_count": 1297,
   "metadata": {},
   "outputs": [
    {
     "data": {
      "text/plain": [
       "array([[0, 1],\n",
       "       [2, 3]])"
      ]
     },
     "execution_count": 1297,
     "metadata": {},
     "output_type": "execute_result"
    }
   ],
   "source": [
    "# 위치 변경 및 이동\n",
    "# 배열의 좌우, 상하의 위치 및 각도에 따라 이동을 시킬 수 있습니다.\n",
    "array = np.arange(4).reshape((2,2))\n",
    "#np.arange(4) -> 0~4 까지 1차원 배열 생성\n",
    "#.reshape((2,2)) : 배열의 형태를 변경 -> 1차원 배열을 2x2 의 2차원 배열로 변환\n",
    "array"
   ]
  },
  {
   "cell_type": "code",
   "execution_count": 1298,
   "metadata": {},
   "outputs": [
    {
     "data": {
      "text/plain": [
       "array([[1, 0],\n",
       "       [3, 2]])"
      ]
     },
     "execution_count": 1298,
     "metadata": {},
     "output_type": "execute_result"
    }
   ],
   "source": [
    "np.fliplr(array) # 배열을 좌우로 뒤집어줌"
   ]
  },
  {
   "cell_type": "code",
   "execution_count": 1299,
   "metadata": {},
   "outputs": [
    {
     "data": {
      "text/plain": [
       "array([[2, 3],\n",
       "       [0, 1]])"
      ]
     },
     "execution_count": 1299,
     "metadata": {},
     "output_type": "execute_result"
    }
   ],
   "source": [
    "np.flipud(array) # 배열을 위아래로 뒤집어줌"
   ]
  },
  {
   "cell_type": "code",
   "execution_count": 1300,
   "metadata": {},
   "outputs": [
    {
     "data": {
      "text/plain": [
       "array([[1, 2],\n",
       "       [3, 4]])"
      ]
     },
     "execution_count": 1300,
     "metadata": {},
     "output_type": "execute_result"
    }
   ],
   "source": [
    "m = np.array([[1,2],[3,4]], int)\n",
    "m"
   ]
  },
  {
   "cell_type": "code",
   "execution_count": 1301,
   "metadata": {},
   "outputs": [
    {
     "data": {
      "text/plain": [
       "array([[2, 4],\n",
       "       [1, 3]])"
      ]
     },
     "execution_count": 1301,
     "metadata": {},
     "output_type": "execute_result"
    }
   ],
   "source": [
    "np.rot90(m)\n",
    "# 2차원 배열을 시계 반대 방향으로 90도 회전 시켜줌"
   ]
  },
  {
   "cell_type": "code",
   "execution_count": 1302,
   "metadata": {},
   "outputs": [
    {
     "data": {
      "text/plain": [
       "array([[4, 3],\n",
       "       [2, 1]])"
      ]
     },
     "execution_count": 1302,
     "metadata": {},
     "output_type": "execute_result"
    }
   ],
   "source": [
    "np.rot90(m,2) # 시계 반대방향으로 180도 회전"
   ]
  },
  {
   "cell_type": "code",
   "execution_count": 1303,
   "metadata": {},
   "outputs": [
    {
     "data": {
      "text/plain": [
       "array([[3, 1],\n",
       "       [4, 2]])"
      ]
     },
     "execution_count": 1303,
     "metadata": {},
     "output_type": "execute_result"
    }
   ],
   "source": [
    "np.rot90(m,3) # 시계반대방향으로 270도 회전"
   ]
  },
  {
   "cell_type": "code",
   "execution_count": 1304,
   "metadata": {},
   "outputs": [
    {
     "data": {
      "text/plain": [
       "array([[1, 2],\n",
       "       [3, 4]])"
      ]
     },
     "execution_count": 1304,
     "metadata": {},
     "output_type": "execute_result"
    }
   ],
   "source": [
    "np.rot90(m,4) # 360도 회전 원래위치로 돌아옴"
   ]
  },
  {
   "cell_type": "code",
   "execution_count": 1305,
   "metadata": {},
   "outputs": [
    {
     "data": {
      "text/plain": [
       "array([[ 1.16328288, -1.22239085,  0.6301408 , -0.39775455, -0.70922116],\n",
       "       [ 0.67415569, -0.68877173, -0.39144376, -1.21249524,  0.76958511],\n",
       "       [-0.44861276,  0.54122683,  1.05294797,  0.32778434, -0.15976953]])"
      ]
     },
     "execution_count": 1305,
     "metadata": {},
     "output_type": "execute_result"
    }
   ],
   "source": [
    "# 배열 내의 원소 점검하기\n",
    "# 원소의 갑에 대한 체크를 할수 있습니다. 또한 무한대나 nan도 점검할 수 있습니다.\n",
    "m = np.random.randn(3,5)\n",
    "# 표준 정규 분포를 따르는 난수를 생성함. 표준 정규 분포는 평균이 0이고, 표준 편차가 1인 분포임\n",
    "# (3,5) 는 3x5의 2차원 배열을 생성해줌, 3개의 행과 5개 열로 구성됨\n",
    "# 배열의 각 요소는 정규분포를 따르는 난수임\n",
    "m\n",
    "# 이 함수는 난수를 생성해 데이터분석, 시뮬레이션, 샘플링 등의 작업에 사용함\n"
   ]
  },
  {
   "cell_type": "code",
   "execution_count": 1306,
   "metadata": {},
   "outputs": [
    {
     "data": {
      "text/plain": [
       "array([[ True,  True,  True,  True,  True],\n",
       "       [ True,  True,  True,  True,  True],\n",
       "       [ True,  True,  True,  True,  True]])"
      ]
     },
     "execution_count": 1306,
     "metadata": {},
     "output_type": "execute_result"
    }
   ],
   "source": [
    "np.isreal(m)\n",
    "# 배열 m의 각 요소가 실수인지 검사함\n",
    "# 실수는 허수가 없는 숫자임, 복소수의 허수가 0인 경우도 실수로 간주함\n",
    "# True 또는 False 값으로 이루어진 배열을 반환함\n",
    "# 복소수와 실수를 구분하거나, 복소수 배열에서 실수 부분을 확인하는데 사용함"
   ]
  },
  {
   "cell_type": "code",
   "execution_count": 1307,
   "metadata": {},
   "outputs": [
    {
     "data": {
      "text/plain": [
       "array([[False, False, False, False, False],\n",
       "       [False, False, False, False, False],\n",
       "       [False, False, False, False, False]])"
      ]
     },
     "execution_count": 1307,
     "metadata": {},
     "output_type": "execute_result"
    }
   ],
   "source": [
    "np.isinf(m)\n",
    "# 배열 m의 요소들이 무한대(+inf 또는 -inf)인지 여부를 확인하는데 사용함\n",
    "# 이 함수는 각 요소가 무한대인 경우 True, 그렇지 않은 경우 False를 반환하는 배열을 생성함\n",
    "# 이 함수의 목적은 실수 요소가 무한대(inf)인지 확인 하는 용도임\n",
    "# 데이터 전처리, 과학적 계산, 예외적인 상황에서 무한대 값을 처리하거나 필터링할 때 사용함"
   ]
  },
  {
   "cell_type": "code",
   "execution_count": 1308,
   "metadata": {},
   "outputs": [
    {
     "data": {
      "text/plain": [
       "array([[False, False, False, False, False],\n",
       "       [False, False, False, False, False],\n",
       "       [False, False, False, False, False]])"
      ]
     },
     "execution_count": 1308,
     "metadata": {},
     "output_type": "execute_result"
    }
   ],
   "source": [
    "np.isnan(m)\n",
    "# m의 각 요소가 NaN인지 확인 하여 \n",
    "# NaN일 경우 True, 아닐 경우 False 반환\n",
    "# 즉 결측치 검사하는거임"
   ]
  },
  {
   "cell_type": "code",
   "execution_count": 1309,
   "metadata": {},
   "outputs": [
    {
     "data": {
      "text/plain": [
       "array([[1, 2],\n",
       "       [3, 4]])"
      ]
     },
     "execution_count": 1309,
     "metadata": {},
     "output_type": "execute_result"
    }
   ],
   "source": [
    "# 패딩\n",
    "# 패딩은 원래 데이터의 경계에 추가적인 값(종종 0)을 삽입하여 데이터의 크기나 모양을 변경할 때 사용\n",
    "# 데이터의 크기를 확장하거나 경계에서의 처리를 단순화 시킴\n",
    "\n",
    "#사용 목적\n",
    "# 경계처리 : 필터나 커널이 경계를 넘어가는 경우 계산하기 어렵기 때문에 패딩을 추가해서 일관된 계산이 가능하게함\n",
    "# 크기 조정 : 이미지데이터의 크기를 일정하게 유지하거나, 원하는 크기로 확장하기 위해 패딩을 사용함\n",
    "# 딥러닝에 사용 : CNN(합성곱 신경망)에서 필터를 적용 할 때 출력 크기를 조절하기 위해 패딩을 사용\n",
    "# Valid 패딩은 출력 크기를 줄임, same 패딩은 출력 크기를 입력과 동일하게 유지함.\n",
    "x = np.arange(1,5).reshape(2,2)\n",
    "x"
   ]
  },
  {
   "cell_type": "code",
   "execution_count": 1310,
   "metadata": {},
   "outputs": [
    {
     "data": {
      "text/plain": [
       "array([[0., 0., 0.],\n",
       "       [0., 0., 0.],\n",
       "       [0., 0., 0.]])"
      ]
     },
     "execution_count": 1310,
     "metadata": {},
     "output_type": "execute_result"
    }
   ],
   "source": [
    "z = np.zeros((3,3))\n",
    "# 3x3의 배열을 생성하고 그 배열의 모든 요소를 0으로 초기화함\n",
    "# np.zeros((3,3)): np.zeros 함수는 지정된 형태를 가지는 배열을 생성\n",
    "# 모든 요소를 0으로 초기화함\n",
    "# 데이터 초기화나 배열을 특정 형태로 설정할 때 사용됨\n",
    "z"
   ]
  },
  {
   "cell_type": "code",
   "execution_count": 1311,
   "metadata": {},
   "outputs": [
    {
     "data": {
      "text/plain": [
       "array([[1., 2., 0.],\n",
       "       [3., 4., 0.],\n",
       "       [0., 0., 0.]])"
      ]
     },
     "execution_count": 1311,
     "metadata": {},
     "output_type": "execute_result"
    }
   ],
   "source": [
    "z[:2, :2] = x\n",
    "# z의 특정 부분을 배열 x의 값으로 덮어쓰는 작업을 수행함\n",
    "# 슬라이싱 방법을 통해 z[행:2, 열:2] -> 2x2 만큼 x값을 채움\n",
    "z"
   ]
  },
  {
   "cell_type": "code",
   "execution_count": 1312,
   "metadata": {},
   "outputs": [
    {
     "data": {
      "text/plain": [
       "array([[1, 2],\n",
       "       [3, 4]])"
      ]
     },
     "execution_count": 1312,
     "metadata": {},
     "output_type": "execute_result"
    }
   ],
   "source": [
    "# 패딩 함수 1\n",
    "# 함수 pad 를 가지고 배열에 패딩을 처리합니다. 상수값으로 패딩을 할 때는 constant  문자열을 인자로 전달합니다.\n",
    "# 배열의 가장자리에 일정한 값을 추가하여 배열의 크기를 확장하는 방법\n",
    "# 이미지처리, 경계 조건 설정, 배열 크기 조정 등에 사용함.\n",
    "np.pad(x,0,\"constant\")\n"
   ]
  },
  {
   "cell_type": "code",
   "execution_count": 1313,
   "metadata": {},
   "outputs": [
    {
     "data": {
      "text/plain": [
       "array([[1, 2, 0],\n",
       "       [3, 4, 0],\n",
       "       [0, 0, 0]])"
      ]
     },
     "execution_count": 1313,
     "metadata": {},
     "output_type": "execute_result"
    }
   ],
   "source": [
    "np.pad(x,(0,1),\"constant\")\n",
    "# 배열의 각 축(axis) 마다 서로 다른 크기의 패딩을 추가할 수 있음.\n",
    "# constant는 추가된 패딩 영역을 일정한 값(기본적으로 '0')으로 채우는 것을 의미\n",
    "# (0,1)의 의미는\n",
    "# 첫 번째 값 0 : 각 축의 시작 부분에 패딩을 추가하지 않음.\n",
    "# 두 번째 값 1 : 각 축의 끝 부분에 1 단위 패딩을 추가함\n"
   ]
  },
  {
   "cell_type": "code",
   "execution_count": 1314,
   "metadata": {},
   "outputs": [
    {
     "data": {
      "text/plain": [
       "array([[0, 0, 0],\n",
       "       [0, 1, 2],\n",
       "       [0, 3, 4]])"
      ]
     },
     "execution_count": 1314,
     "metadata": {},
     "output_type": "execute_result"
    }
   ],
   "source": [
    "np.pad(x,(1,0),\"constant\")"
   ]
  },
  {
   "cell_type": "code",
   "execution_count": 1315,
   "metadata": {},
   "outputs": [
    {
     "data": {
      "text/plain": [
       "array([[0, 0, 0, 0],\n",
       "       [0, 1, 2, 0],\n",
       "       [0, 3, 4, 0],\n",
       "       [0, 0, 0, 0]])"
      ]
     },
     "execution_count": 1315,
     "metadata": {},
     "output_type": "execute_result"
    }
   ],
   "source": [
    "np.pad(x,(1,1),\"constant\")"
   ]
  },
  {
   "cell_type": "code",
   "execution_count": 1316,
   "metadata": {},
   "outputs": [
    {
     "data": {
      "text/plain": [
       "array([[0, 0, 0, 0, 0, 0, 0, 0],\n",
       "       [0, 0, 0, 0, 0, 0, 0, 0],\n",
       "       [0, 0, 0, 0, 0, 0, 0, 0],\n",
       "       [0, 0, 0, 1, 2, 0, 0, 0],\n",
       "       [0, 0, 0, 3, 4, 0, 0, 0],\n",
       "       [0, 0, 0, 0, 0, 0, 0, 0],\n",
       "       [0, 0, 0, 0, 0, 0, 0, 0],\n",
       "       [0, 0, 0, 0, 0, 0, 0, 0]])"
      ]
     },
     "execution_count": 1316,
     "metadata": {},
     "output_type": "execute_result"
    }
   ],
   "source": [
    "np.pad(x,(3,3),'constant')"
   ]
  },
  {
   "cell_type": "code",
   "execution_count": 1317,
   "metadata": {},
   "outputs": [
    {
     "data": {
      "text/plain": [
       "array([[1, 2],\n",
       "       [3, 4]])"
      ]
     },
     "execution_count": 1317,
     "metadata": {},
     "output_type": "execute_result"
    }
   ],
   "source": [
    "# 패딩함수2\n",
    "# 기존 배열의 값으로 패딩이 필요하면 edge 문자열을 인자로 전달합니다.\n",
    "x = np.arange(1,5).reshape(2,2)\n",
    "x"
   ]
  },
  {
   "cell_type": "code",
   "execution_count": 1318,
   "metadata": {},
   "outputs": [
    {
     "data": {
      "text/plain": [
       "array([[1, 2, 2],\n",
       "       [3, 4, 4],\n",
       "       [3, 4, 4]])"
      ]
     },
     "execution_count": 1318,
     "metadata": {},
     "output_type": "execute_result"
    }
   ],
   "source": [
    "np.pad(x,(0,1),\"edge\")"
   ]
  },
  {
   "cell_type": "code",
   "execution_count": 1319,
   "metadata": {},
   "outputs": [
    {
     "data": {
      "text/plain": [
       "array([[1, 1, 2],\n",
       "       [1, 1, 2],\n",
       "       [3, 3, 4]])"
      ]
     },
     "execution_count": 1319,
     "metadata": {},
     "output_type": "execute_result"
    }
   ],
   "source": [
    "np.pad(x,(1,0),'edge')"
   ]
  },
  {
   "cell_type": "code",
   "execution_count": 1320,
   "metadata": {},
   "outputs": [
    {
     "data": {
      "text/plain": [
       "array([[1, 1, 2, 2],\n",
       "       [1, 1, 2, 2],\n",
       "       [3, 3, 4, 4],\n",
       "       [3, 3, 4, 4]])"
      ]
     },
     "execution_count": 1320,
     "metadata": {},
     "output_type": "execute_result"
    }
   ],
   "source": [
    "np.pad(x,(1,1),'edge')"
   ]
  },
  {
   "cell_type": "code",
   "execution_count": 1321,
   "metadata": {},
   "outputs": [
    {
     "data": {
      "text/plain": [
       "array([[1, 1, 1, 1, 2, 2, 2, 2],\n",
       "       [1, 1, 1, 1, 2, 2, 2, 2],\n",
       "       [1, 1, 1, 1, 2, 2, 2, 2],\n",
       "       [1, 1, 1, 1, 2, 2, 2, 2],\n",
       "       [3, 3, 3, 3, 4, 4, 4, 4],\n",
       "       [3, 3, 3, 3, 4, 4, 4, 4],\n",
       "       [3, 3, 3, 3, 4, 4, 4, 4],\n",
       "       [3, 3, 3, 3, 4, 4, 4, 4]])"
      ]
     },
     "execution_count": 1321,
     "metadata": {},
     "output_type": "execute_result"
    }
   ],
   "source": [
    "np.pad(x,(3,3),'edge')"
   ]
  },
  {
   "cell_type": "code",
   "execution_count": 1322,
   "metadata": {},
   "outputs": [
    {
     "data": {
      "text/plain": [
       "array([[4, 4, 4, 3, 4, 4, 4, 4],\n",
       "       [4, 4, 4, 3, 4, 4, 4, 4],\n",
       "       [4, 4, 4, 3, 4, 4, 4, 4],\n",
       "       [2, 2, 2, 1, 2, 2, 2, 2],\n",
       "       [4, 4, 4, 3, 4, 4, 4, 4],\n",
       "       [4, 4, 4, 3, 4, 4, 4, 4],\n",
       "       [4, 4, 4, 3, 4, 4, 4, 4],\n",
       "       [4, 4, 4, 3, 4, 4, 4, 4]])"
      ]
     },
     "execution_count": 1322,
     "metadata": {},
     "output_type": "execute_result"
    }
   ],
   "source": [
    "# 패딩 함수 3\n",
    "# 패딩되는 값을 최대값, 최소값, 평균, 중앙값 등으로 지정 할 수 있습니다\n",
    "np.pad(x,(3,3),'maximum')"
   ]
  },
  {
   "cell_type": "code",
   "execution_count": 1323,
   "metadata": {},
   "outputs": [
    {
     "data": {
      "text/plain": [
       "array([[1, 1, 1, 1, 2, 1, 1, 1],\n",
       "       [1, 1, 1, 1, 2, 1, 1, 1],\n",
       "       [1, 1, 1, 1, 2, 1, 1, 1],\n",
       "       [1, 1, 1, 1, 2, 1, 1, 1],\n",
       "       [3, 3, 3, 3, 4, 3, 3, 3],\n",
       "       [1, 1, 1, 1, 2, 1, 1, 1],\n",
       "       [1, 1, 1, 1, 2, 1, 1, 1],\n",
       "       [1, 1, 1, 1, 2, 1, 1, 1]])"
      ]
     },
     "execution_count": 1323,
     "metadata": {},
     "output_type": "execute_result"
    }
   ],
   "source": [
    "np.pad(x,(3,3),'minimum')"
   ]
  },
  {
   "cell_type": "code",
   "execution_count": 1324,
   "metadata": {},
   "outputs": [
    {
     "data": {
      "text/plain": [
       "array([[2, 2, 3, 2],\n",
       "       [2, 1, 2, 2],\n",
       "       [4, 3, 4, 4],\n",
       "       [2, 2, 3, 2]])"
      ]
     },
     "execution_count": 1324,
     "metadata": {},
     "output_type": "execute_result"
    }
   ],
   "source": [
    "np.pad(x,(1,1),'mean')"
   ]
  },
  {
   "cell_type": "code",
   "execution_count": 1325,
   "metadata": {},
   "outputs": [
    {
     "data": {
      "text/plain": [
       "array([[2, 2, 2, 2, 3, 2, 2, 2],\n",
       "       [2, 2, 2, 2, 3, 2, 2, 2],\n",
       "       [2, 2, 2, 2, 3, 2, 2, 2],\n",
       "       [2, 2, 2, 1, 2, 2, 2, 2],\n",
       "       [4, 4, 4, 3, 4, 4, 4, 4],\n",
       "       [2, 2, 2, 2, 3, 2, 2, 2],\n",
       "       [2, 2, 2, 2, 3, 2, 2, 2],\n",
       "       [2, 2, 2, 2, 3, 2, 2, 2]])"
      ]
     },
     "execution_count": 1325,
     "metadata": {},
     "output_type": "execute_result"
    }
   ],
   "source": [
    "np.pad(x,(3,3),'mean')"
   ]
  },
  {
   "cell_type": "code",
   "execution_count": 1326,
   "metadata": {},
   "outputs": [
    {
     "data": {
      "text/plain": [
       "array([[2, 2, 2, 2, 3, 2, 2, 2],\n",
       "       [2, 2, 2, 2, 3, 2, 2, 2],\n",
       "       [2, 2, 2, 2, 3, 2, 2, 2],\n",
       "       [2, 2, 2, 1, 2, 2, 2, 2],\n",
       "       [4, 4, 4, 3, 4, 4, 4, 4],\n",
       "       [2, 2, 2, 2, 3, 2, 2, 2],\n",
       "       [2, 2, 2, 2, 3, 2, 2, 2],\n",
       "       [2, 2, 2, 2, 3, 2, 2, 2]])"
      ]
     },
     "execution_count": 1326,
     "metadata": {},
     "output_type": "execute_result"
    }
   ],
   "source": [
    "np.pad(x,(3,3),'median')"
   ]
  },
  {
   "cell_type": "code",
   "execution_count": 1327,
   "metadata": {},
   "outputs": [
    {
     "data": {
      "text/plain": [
       "numpy.dtype"
      ]
     },
     "execution_count": 1327,
     "metadata": {},
     "output_type": "execute_result"
    }
   ],
   "source": [
    "#dtype으로 자료형 객체 생성하기\n",
    "# dtype 클래스 알아보기\n",
    "# 다차원 배열의 ㅏ료형을 관리하는 클래스가 dtype 입니다. 이 클래스로 객체를 만들어서 관리합니다.\n",
    "np.dtype"
   ]
  },
  {
   "cell_type": "code",
   "execution_count": 1328,
   "metadata": {},
   "outputs": [
    {
     "data": {
      "text/plain": [
       "dtype('int32')"
      ]
     },
     "execution_count": 1328,
     "metadata": {},
     "output_type": "execute_result"
    }
   ],
   "source": [
    "d = np.dtype(np.int32)\n",
    "d"
   ]
  },
  {
   "cell_type": "code",
   "execution_count": 1329,
   "metadata": {},
   "outputs": [
    {
     "data": {
      "text/plain": [
       "array([1, 2, 3, 4])"
      ]
     },
     "execution_count": 1329,
     "metadata": {},
     "output_type": "execute_result"
    }
   ],
   "source": [
    "a = np.array([1,2,3,4], dtype=d)\n",
    "a"
   ]
  },
  {
   "cell_type": "code",
   "execution_count": 1330,
   "metadata": {},
   "outputs": [
    {
     "data": {
      "text/plain": [
       "dtype('int32')"
      ]
     },
     "execution_count": 1330,
     "metadata": {},
     "output_type": "execute_result"
    }
   ],
   "source": [
    "a.dtype"
   ]
  },
  {
   "cell_type": "code",
   "execution_count": 1331,
   "metadata": {},
   "outputs": [
    {
     "data": {
      "text/plain": [
       "[numpy.int32,\n",
       " numpy.signedinteger,\n",
       " numpy.integer,\n",
       " numpy.number,\n",
       " numpy.generic,\n",
       " object]"
      ]
     },
     "execution_count": 1331,
     "metadata": {},
     "output_type": "execute_result"
    }
   ],
   "source": [
    "np.int_\n",
    "np.int_.mro()"
   ]
  },
  {
   "cell_type": "code",
   "execution_count": 1332,
   "metadata": {},
   "outputs": [
    {
     "data": {
      "text/plain": [
       "numpy.datetime64"
      ]
     },
     "execution_count": 1332,
     "metadata": {},
     "output_type": "execute_result"
    }
   ],
   "source": [
    "# 날짜 자료형\n",
    "np.datetime64"
   ]
  },
  {
   "cell_type": "code",
   "execution_count": 1333,
   "metadata": {},
   "outputs": [
    {
     "name": "stdout",
     "output_type": "stream",
     "text": [
      "<class 'numpy.datetime64'>\n"
     ]
    }
   ],
   "source": [
    "print(np.datetime64)"
   ]
  },
  {
   "cell_type": "code",
   "execution_count": 1334,
   "metadata": {},
   "outputs": [
    {
     "data": {
      "text/plain": [
       "(numpy.datetime64('2018'), dtype('<M8[Y]'))"
      ]
     },
     "execution_count": 1334,
     "metadata": {},
     "output_type": "execute_result"
    }
   ],
   "source": [
    "y = np.datetime64('2018')\n",
    "y, y.dtype"
   ]
  },
  {
   "cell_type": "code",
   "execution_count": 1335,
   "metadata": {},
   "outputs": [
    {
     "data": {
      "text/plain": [
       "(numpy.datetime64('2018-11'), dtype('<M8[M]'))"
      ]
     },
     "execution_count": 1335,
     "metadata": {},
     "output_type": "execute_result"
    }
   ],
   "source": [
    "ym = np.datetime64('2018-11')\n",
    "ym, ym.dtype"
   ]
  },
  {
   "cell_type": "code",
   "execution_count": 1336,
   "metadata": {},
   "outputs": [
    {
     "data": {
      "text/plain": [
       "(numpy.datetime64('2018-11-15'), dtype('<M8[D]'))"
      ]
     },
     "execution_count": 1336,
     "metadata": {},
     "output_type": "execute_result"
    }
   ],
   "source": [
    "ymd = np.datetime64('2018-11-15')\n",
    "ymd, ymd.dtype"
   ]
  },
  {
   "cell_type": "code",
   "execution_count": 1337,
   "metadata": {},
   "outputs": [
    {
     "data": {
      "text/plain": [
       "array(['2018-11-15', '2018-12-15', '2010-01-15'], dtype='datetime64[D]')"
      ]
     },
     "execution_count": 1337,
     "metadata": {},
     "output_type": "execute_result"
    }
   ],
   "source": [
    "# 날짜 자료형 2\n",
    "a = np.array(['2018-11-15', '2018-12-15', '2010-01-15'], dtype=np.datetime64)\n",
    "a"
   ]
  },
  {
   "cell_type": "code",
   "execution_count": 1338,
   "metadata": {},
   "outputs": [
    {
     "data": {
      "text/plain": [
       "(numpy.timedelta64(730,'D'), dtype('<m8[D]'))"
      ]
     },
     "execution_count": 1338,
     "metadata": {},
     "output_type": "execute_result"
    }
   ],
   "source": [
    "delta = np.datetime64('2018-11-15') - np.datetime64('2016-11-15')\n",
    "delta, delta.dtype"
   ]
  },
  {
   "cell_type": "code",
   "execution_count": 1339,
   "metadata": {},
   "outputs": [
    {
     "name": "stdout",
     "output_type": "stream",
     "text": [
      "730 days\n"
     ]
    }
   ],
   "source": [
    "print(delta)"
   ]
  },
  {
   "cell_type": "code",
   "execution_count": 1340,
   "metadata": {},
   "outputs": [
    {
     "data": {
      "text/plain": [
       "(numpy.str_, numpy.str_)"
      ]
     },
     "execution_count": 1340,
     "metadata": {},
     "output_type": "execute_result"
    }
   ],
   "source": [
    "# 문자 자료형\n",
    "# 문자열도 하나의 자료형입니다. 파이썬에는 두 종류의 문자열이 유니코드와 바이트가 있습니다.\n",
    "np.str_, np.unicode_"
   ]
  },
  {
   "cell_type": "code",
   "execution_count": 1341,
   "metadata": {},
   "outputs": [
    {
     "name": "stdout",
     "output_type": "stream",
     "text": [
      "False\n",
      "False\n"
     ]
    }
   ],
   "source": [
    "# NumPy의 문자열 스칼라 타입 사용\n",
    "is_str = np.str_ is str\n",
    "\n",
    "# 동일하게, np.unicode_도 사용할 수 있음\n",
    "is_unicode = np.unicode_ is str\n",
    "\n",
    "print(is_str)      # False\n",
    "print(is_unicode)  # False"
   ]
  },
  {
   "cell_type": "code",
   "execution_count": 1342,
   "metadata": {},
   "outputs": [
    {
     "data": {
      "text/plain": [
       "array([[b'a', b'b'],\n",
       "       [b'c', b'd']], dtype='|S1')"
      ]
     },
     "execution_count": 1342,
     "metadata": {},
     "output_type": "execute_result"
    }
   ],
   "source": [
    "# 문자 자료형 : 바이트 문자열\n",
    "# 다차원 배열의 원소가 문자열일 경우 dtype='S'로 처리하면 문자열 앞에 b가 붙어서 붙어서 바이트 문자열로 처리됩니다.\n",
    "s = np.array([['a','b'], ['c','d']], dtype='S') # -> 하나하나씩 바이트로 처리하기, 아스키코드를 사용하기 때문에 한글은 짤림\n",
    "s"
   ]
  },
  {
   "cell_type": "code",
   "execution_count": 1343,
   "metadata": {},
   "outputs": [
    {
     "data": {
      "text/plain": [
       "b'a'"
      ]
     },
     "execution_count": 1343,
     "metadata": {},
     "output_type": "execute_result"
    }
   ],
   "source": [
    "s[0,0]"
   ]
  },
  {
   "cell_type": "code",
   "execution_count": 1344,
   "metadata": {},
   "outputs": [
    {
     "data": {
      "text/plain": [
       "array([['a', 'b'],\n",
       "       ['c', 'd']], dtype='<U1')"
      ]
     },
     "execution_count": 1344,
     "metadata": {},
     "output_type": "execute_result"
    }
   ],
   "source": [
    "# 문자 자료혀 : 문자열\n",
    "# 다차원 배열의 원소가 문자열일 경우 dtype='U', np_str_ 등으로 처리하면 일반적인 문자열로 처리\n",
    "ul = np.array([['a','b'], ['c','d']])\n",
    "ul"
   ]
  },
  {
   "cell_type": "code",
   "execution_count": 1345,
   "metadata": {},
   "outputs": [
    {
     "data": {
      "text/plain": [
       "array([['a', 'b'],\n",
       "       ['c', 'd']], dtype='<U1')"
      ]
     },
     "execution_count": 1345,
     "metadata": {},
     "output_type": "execute_result"
    }
   ],
   "source": [
    "u2 = np.array([['a','b'],['c','d']], dtype='U')\n",
    "u2"
   ]
  },
  {
   "cell_type": "code",
   "execution_count": 1346,
   "metadata": {},
   "outputs": [
    {
     "data": {
      "text/plain": [
       "array([['a', 'b'],\n",
       "       ['c', 'd']], dtype='<U1')"
      ]
     },
     "execution_count": 1346,
     "metadata": {},
     "output_type": "execute_result"
    }
   ],
   "source": [
    "ss = np.dtype(np.str_)\n",
    "b = np.array([['a','b'],['c','d']], dtype=ss)\n",
    "b"
   ]
  },
  {
   "cell_type": "code",
   "execution_count": 1347,
   "metadata": {},
   "outputs": [
    {
     "data": {
      "text/plain": [
       "array(['abc', '12345'], dtype=object)"
      ]
     },
     "execution_count": 1347,
     "metadata": {},
     "output_type": "execute_result"
    }
   ],
   "source": [
    "# 문자 자료형 처리\n",
    "# 다차원 배열의 자료형은 파이썬 문자열을 처리하는 자료형은 object입니다\n",
    "# 다차원 배열을 만들 때 문자의 길이에 따라 문자열을 수정할 수 있습니다\n",
    "a = np.array(['abc','12345'], dtype=(object))\n",
    "a"
   ]
  },
  {
   "cell_type": "code",
   "execution_count": 1348,
   "metadata": {},
   "outputs": [
    {
     "data": {
      "text/plain": [
       "str"
      ]
     },
     "execution_count": 1348,
     "metadata": {},
     "output_type": "execute_result"
    }
   ],
   "source": [
    "type(a[0])"
   ]
  },
  {
   "cell_type": "code",
   "execution_count": 1349,
   "metadata": {},
   "outputs": [
    {
     "data": {
      "text/plain": [
       "array([b'acb', b'12345'], dtype=object)"
      ]
     },
     "execution_count": 1349,
     "metadata": {},
     "output_type": "execute_result"
    }
   ],
   "source": [
    "# 바이트 문자열은 문자 데이터를 바이트 단위로 표현한 것입니다.\n",
    "# 파이썬에서 바이트 문자열은 b'...' 형태로 나타냅니다.\n",
    "# 텍스트 데이터를 파일에 쓰거나, 네트워크를 통해 데이터를 전송할 때, 바이트 수준의 데이터 처리가 필요한 상황에서 사용합니다.\n",
    "b = np.array([b'acb', b'12345'], dtype=object)\n",
    "b"
   ]
  },
  {
   "cell_type": "code",
   "execution_count": 1350,
   "metadata": {},
   "outputs": [
    {
     "data": {
      "text/plain": [
       "bytes"
      ]
     },
     "execution_count": 1350,
     "metadata": {},
     "output_type": "execute_result"
    }
   ],
   "source": [
    "type(b[0])"
   ]
  },
  {
   "cell_type": "code",
   "execution_count": 1351,
   "metadata": {},
   "outputs": [
    {
     "name": "stdout",
     "output_type": "stream",
     "text": [
      "[[b'0' b'1' b'2' b'3' b'4']\n",
      " [b'5' b'6' b'7' b'8' b'9']]\n"
     ]
    }
   ],
   "source": [
    "# S5는 바이트 문자열을 나타냄. S는 문자열을 바이트 단위로 처리하는 것을 의미\n",
    "# 숫자 5는 문자열의 최대길이를 지정해줌\n",
    "# 길이 5만큼 문자열을 바이트 단위로 처리해라 라는 의미임\n",
    "d5 = np.array(range(10), dtype='S5').reshape(2, 5)\n",
    "print(d5)"
   ]
  },
  {
   "cell_type": "code",
   "execution_count": 1352,
   "metadata": {},
   "outputs": [
    {
     "data": {
      "text/plain": [
       "array([[b'Hello', b'1', b'2', b'3', b'4'],\n",
       "       [b'5', b'6', b'7', b'8', b'9']], dtype='|S5')"
      ]
     },
     "execution_count": 1352,
     "metadata": {},
     "output_type": "execute_result"
    }
   ],
   "source": [
    "d5[0,0] = \"Hello\"\n",
    "d5"
   ]
  },
  {
   "cell_type": "code",
   "execution_count": 1353,
   "metadata": {},
   "outputs": [],
   "source": [
    "# 항등함수\n",
    "# 입력과 출력이 동일한 결과 즉 입력하는 값을 그대로 출력하는 값으로 처리\n",
    "def identity(x):\n",
    "    return x"
   ]
  },
  {
   "cell_type": "code",
   "execution_count": 1354,
   "metadata": {},
   "outputs": [
    {
     "data": {
      "text/plain": [
       "array([ True,  True,  True,  True,  True,  True,  True,  True,  True,\n",
       "        True,  True,  True,  True,  True,  True,  True,  True,  True,\n",
       "        True,  True,  True])"
      ]
     },
     "execution_count": 1354,
     "metadata": {},
     "output_type": "execute_result"
    }
   ],
   "source": [
    "x = np.arange(-10,11)\n",
    "y = identity(x)\n",
    "x == y"
   ]
  },
  {
   "cell_type": "code",
   "execution_count": 1355,
   "metadata": {},
   "outputs": [
    {
     "data": {
      "image/png": "[encoded data removed]",
      "text/plain": [
       "<Figure size 800x600 with 1 Axes>"
      ]
     },
     "metadata": {},
     "output_type": "display_data"
    }
   ],
   "source": [
    "import matplotlib.pyplot as plt\n",
    "fig = plt.figure(figsize=(8,6))\n",
    "plt.plot(x,y)\n",
    "\n",
    "plt.show()"
   ]
  },
  {
   "cell_type": "code",
   "execution_count": 1356,
   "metadata": {},
   "outputs": [
    {
     "data": {
      "text/plain": [
       "array([0, 0, 0, 0, 0, 0, 0, 0, 0, 0, 0, 0, 0, 0, 0, 0, 0, 0, 0, 0, 0, 0,\n",
       "       0, 0, 0, 0, 0, 0, 0, 0, 0, 0, 0, 0, 0, 0, 0, 0, 0, 0, 0, 0, 0, 0,\n",
       "       0, 0, 0, 0, 0, 0, 0, 1, 1, 1, 1, 1, 1, 1, 1, 1, 1, 1, 1, 1, 1, 1,\n",
       "       1, 1, 1, 1, 1, 1, 1, 1, 1, 1, 1, 1, 1, 1, 1, 1, 1, 1, 1, 1, 1, 1,\n",
       "       1, 1, 1, 1, 1, 1, 1, 1, 1, 1, 1, 1])"
      ]
     },
     "execution_count": 1356,
     "metadata": {},
     "output_type": "execute_result"
    }
   ],
   "source": [
    "# 계단함수\n",
    "# 여기서 where은 조건에 따라 요소를 선택하거나 값을 할당하는데 사용하는 함수임\n",
    "# np.where(condition, x, y)\n",
    "# condition : 평가할 조건임. 여기선 x>0이 조건\n",
    "# x : 1일때 True을 반환\n",
    "# y : 0일때 False를 반환\n",
    "def step(x):\n",
    "    return np.where(x>0, 1,0)\n",
    "x = np.arange(-5, 5, 0.1)\n",
    "y = step(x)\n",
    "y"
   ]
  },
  {
   "cell_type": "code",
   "execution_count": 1357,
   "metadata": {},
   "outputs": [
    {
     "data": {
      "image/png": "[encoded data removed]",
      "text/plain": [
       "<Figure size 640x480 with 1 Axes>"
      ]
     },
     "metadata": {},
     "output_type": "display_data"
    }
   ],
   "source": [
    "plt.plot(x,y)\n",
    "plt.grid()\n",
    "# 컴퓨터 그래픽스, 데이터 시각화, 수학, 네트워크, 디자인에서 grid라는 용어를 사용함\n",
    "# 데이터 시각화에서는 축을 따라 그려진 선으로 데이터를 시각적으로 정렬하고 비교하는데 도움을 줍니다.\n",
    "plt.show()"
   ]
  },
  {
   "cell_type": "code",
   "execution_count": 1358,
   "metadata": {},
   "outputs": [],
   "source": [
    "# 하이퍼블릭 탄젠트 함수\n",
    "x=np.arange(-5,5,0.1)\n",
    "y = np.tanh(x)\n",
    "# tanh : 실수 값을 입력으로 받아들여 출력으로 -1과 1사이로 제한하는 특성을 가짐\n",
    "# 신경망과 머신러닝에서 활성화 함수로 자주 사용함"
   ]
  },
  {
   "cell_type": "code",
   "execution_count": 1359,
   "metadata": {},
   "outputs": [
    {
     "data": {
      "image/png": "[encoded data removed]",
      "text/plain": [
       "<Figure size 640x480 with 1 Axes>"
      ]
     },
     "metadata": {},
     "output_type": "display_data"
    }
   ],
   "source": [
    "plt.plot(x,y)\n",
    "plt.grid()\n",
    "plt.show()"
   ]
  },
  {
   "cell_type": "code",
   "execution_count": 1360,
   "metadata": {},
   "outputs": [],
   "source": [
    "# 시그모이드 함수\n",
    "def sigmoid(x):\n",
    "    return 1 / (1 + np.exp(-x))\n",
    "# np.exp : 자연 지수 함수를 계산하는 함수\n",
    "# 자연 상수 e = 2.71828\n",
    "# 2.71828 에 -x만큼 제곱한다는 의미\n",
    "# x가 음수일 수록 큰 값을 반환함\n",
    "# x가 양수일 수록 작은 값을 반환함"
   ]
  },
  {
   "cell_type": "code",
   "execution_count": 1361,
   "metadata": {},
   "outputs": [
    {
     "data": {
      "text/plain": [
       "((100,), (100,))"
      ]
     },
     "execution_count": 1361,
     "metadata": {},
     "output_type": "execute_result"
    }
   ],
   "source": [
    "x = np.arange(-5,5,0.1)\n",
    "y = sigmoid(x)\n",
    "x.shape, y.shape"
   ]
  },
  {
   "cell_type": "code",
   "execution_count": 1362,
   "metadata": {},
   "outputs": [
    {
     "data": {
      "image/png": "[encoded data removed]",
      "text/plain": [
       "<Figure size 640x480 with 1 Axes>"
      ]
     },
     "metadata": {},
     "output_type": "display_data"
    }
   ],
   "source": [
    "plt.plot(x,y)\n",
    "plt.grid()\n",
    "plt.show()"
   ]
  },
  {
   "cell_type": "code",
   "execution_count": 1363,
   "metadata": {},
   "outputs": [
    {
     "data": {
      "image/png": "[encoded data removed]",
      "text/plain": [
       "<Figure size 640x480 with 1 Axes>"
      ]
     },
     "metadata": {},
     "output_type": "display_data"
    }
   ],
   "source": [
    "# 렐루 함수\n",
    "def relu(x):\n",
    "    return np.maximum(0,x)\n",
    "# 렐루 함수는 인공 신경망에서 널리 사용되는 활성화 함수임\n",
    "# 입력 값이 양수이면 그대로 반환, 음수일 경우엔 0으로 반환함\n",
    "# 0,x 는 x와 0을 비교하여 더 큰 값을 선택함\n",
    "# x의 값이 0보다 크면 값을 그대로 반환하고, 0보다 작으면 0을 반환함\n",
    "x = np.arange(-5,5,0.1)\n",
    "y = relu(x)\n",
    "plt.plot(x,y)\n",
    "plt.grid()\n",
    "plt.show()"
   ]
  },
  {
   "cell_type": "code",
   "execution_count": 1364,
   "metadata": {},
   "outputs": [
    {
     "data": {
      "text/plain": [
       "array([0.0320586 , 0.08714432, 0.23688282, 0.64391426])"
      ]
     },
     "execution_count": 1364,
     "metadata": {},
     "output_type": "execute_result"
    }
   ],
   "source": [
    "# 소프트맥스 함수\n",
    "def softmax(x):\n",
    "    return np.exp(x) / np.sum(np.exp(x))\n",
    "# 신경망에서 자주 사용되는 활성화 함수임\n",
    "# 분류 해야하는 출력층에서 사용함\n",
    "# 입력 값을 확률로 변환하여 모든 입력 값의 합이 1이 되도록 출력함\n",
    "# np.sum(np.exp(x)) : np.exp(x)로 계산된 각 요소의 지수 값들을 모두 더함\n",
    "# np.exp(x)로 나눠줬음\n",
    "# 이로 인해 결과 배열의 모든 요소는 0과 1 사이의 값이 되며, 전체 합은 1이됨.\n",
    "x = np.arange(1,5)\n",
    "y = softmax(x)\n",
    "y"
   ]
  },
  {
   "cell_type": "code",
   "execution_count": 1365,
   "metadata": {},
   "outputs": [
    {
     "data": {
      "text/plain": [
       "1.0"
      ]
     },
     "execution_count": 1365,
     "metadata": {},
     "output_type": "execute_result"
    }
   ],
   "source": [
    "np.sum(y)"
   ]
  },
  {
   "cell_type": "code",
   "execution_count": 1366,
   "metadata": {},
   "outputs": [
    {
     "data": {
      "image/png": "[encoded data removed]",
      "text/plain": [
       "<Figure size 640x480 with 1 Axes>"
      ]
     },
     "metadata": {},
     "output_type": "display_data"
    }
   ],
   "source": [
    "ratio = y\n",
    "labels = y\n",
    "plt.pie(ratio, labels=labels, shadow=True, startangle=90)\n",
    "plt.show()"
   ]
  },
  {
   "cell_type": "code",
   "execution_count": 1367,
   "metadata": {},
   "outputs": [
    {
     "data": {
      "text/plain": [
       "array([3.14, 4.32])"
      ]
     },
     "execution_count": 1367,
     "metadata": {},
     "output_type": "execute_result"
    }
   ],
   "source": [
    "# 산술함수\n",
    "# 소수점 이하 처리\n",
    "a = np.array([3.14, 4.32])\n",
    "a"
   ]
  },
  {
   "cell_type": "code",
   "execution_count": 1368,
   "metadata": {},
   "outputs": [
    {
     "data": {
      "text/plain": [
       "array([3., 4.])"
      ]
     },
     "execution_count": 1368,
     "metadata": {},
     "output_type": "execute_result"
    }
   ],
   "source": [
    "np.fix(a)\n",
    "# fix(a) 실수 배열의 각 요소에서 소수부분을 잘라내고, 가장 가까운 0에 가까운 정수로 만드는 기능을 함.\n",
    "# np.fix는 양수와 음수에 대해 각각 0방향으로 반올림함\n",
    "# 3.14는 소수점 이하를 버리고 3.0\n",
    "# 4.32는 소수점 이하를 버리고 4.0\n"
   ]
  },
  {
   "cell_type": "code",
   "execution_count": 1369,
   "metadata": {},
   "outputs": [
    {
     "data": {
      "text/plain": [
       "array([3., 4.])"
      ]
     },
     "execution_count": 1369,
     "metadata": {},
     "output_type": "execute_result"
    }
   ],
   "source": [
    "np.trunc(a)\n",
    "# 입력값이 양수이든 음수이든 소수점 이하를 단순히 버리고 정수 부분만을 반환함.\n"
   ]
  },
  {
   "cell_type": "code",
   "execution_count": 1370,
   "metadata": {},
   "outputs": [
    {
     "data": {
      "text/plain": [
       "array([4., 5.])"
      ]
     },
     "execution_count": 1370,
     "metadata": {},
     "output_type": "execute_result"
    }
   ],
   "source": [
    "b = np.array([3.14, 4.52])\n",
    "np.ceil(b)\n",
    "# b라는 배열의 각 요소를 올림 연산을 수행함\n",
    "# 3.14는 4로 4.52는 5로 올림"
   ]
  },
  {
   "cell_type": "code",
   "execution_count": 1371,
   "metadata": {},
   "outputs": [
    {
     "data": {
      "text/plain": [
       "array([3., 4.])"
      ]
     },
     "execution_count": 1371,
     "metadata": {},
     "output_type": "execute_result"
    }
   ],
   "source": [
    "np.floor(b)\n",
    "# 배열의 각요소에 내림 연산을 수행함"
   ]
  },
  {
   "cell_type": "code",
   "execution_count": 1372,
   "metadata": {},
   "outputs": [
    {
     "data": {
      "text/plain": [
       "array([3., 5.])"
      ]
     },
     "execution_count": 1372,
     "metadata": {},
     "output_type": "execute_result"
    }
   ],
   "source": [
    "np.round(b)\n",
    "# 그냥 파이썬의 반올림"
   ]
  },
  {
   "cell_type": "code",
   "execution_count": 1373,
   "metadata": {},
   "outputs": [
    {
     "data": {
      "text/plain": [
       "array([3., 5.])"
      ]
     },
     "execution_count": 1373,
     "metadata": {},
     "output_type": "execute_result"
    }
   ],
   "source": [
    "np.around(b)\n",
    "# 다차원 배열의 각 요소에 대해 개별적으로 반올림을 수행 할 수 있음\n",
    "# 단일 값 또는 작은 데이터에 대해 반올림이 필요하다면 round를 사용 하는 것이 더 간단함\n",
    "# 배열이나 다차원 데이터에 대해 반올림이 필요하면 np.around를 사용하는 것이 더효율적임"
   ]
  },
  {
   "cell_type": "code",
   "execution_count": 1374,
   "metadata": {},
   "outputs": [],
   "source": [
    "c = np.array([5.55,6.66])"
   ]
  },
  {
   "cell_type": "code",
   "execution_count": 1375,
   "metadata": {},
   "outputs": [
    {
     "data": {
      "text/plain": [
       "array([10., 10.])"
      ]
     },
     "execution_count": 1375,
     "metadata": {},
     "output_type": "execute_result"
    }
   ],
   "source": [
    "np.round(c,-1) # -1 -> 1의 자리에서 반올림하겟다"
   ]
  },
  {
   "cell_type": "code",
   "execution_count": 1376,
   "metadata": {},
   "outputs": [
    {
     "data": {
      "text/plain": [
       "array([10., 10.])"
      ]
     },
     "execution_count": 1376,
     "metadata": {},
     "output_type": "execute_result"
    }
   ],
   "source": [
    "np.around(c,-1)"
   ]
  },
  {
   "cell_type": "code",
   "execution_count": 1485,
   "metadata": {},
   "outputs": [
    {
     "name": "stdout",
     "output_type": "stream",
     "text": [
      "[ 4  8 10 16 18]\n"
     ]
    },
    {
     "data": {
      "text/plain": [
       "array([ 4,  8, 10, 16, 18])"
      ]
     },
     "execution_count": 1485,
     "metadata": {},
     "output_type": "execute_result"
    }
   ],
   "source": [
    "# 산술연산\n",
    "x = np.array([2,4,5,8,9])\n",
    "print(x + x)\n",
    "np.add(x,x)\n"
   ]
  },
  {
   "cell_type": "code",
   "execution_count": 1489,
   "metadata": {},
   "outputs": [
    {
     "data": {
      "text/plain": [
       "(1, 1)"
      ]
     },
     "execution_count": 1489,
     "metadata": {},
     "output_type": "execute_result"
    }
   ],
   "source": [
    "np.true_divide(x,x) # -> x/x\n",
    "np.floor_divide(x,x) # -> x//x\n",
    "np.mod(4,3) # -> x%x\n",
    "np.remainder(4,3) # -> x%x\n",
    "np.divmod(4,3) # -> 몫과 나머지를 동시에 반환함"
   ]
  },
  {
   "cell_type": "code",
   "execution_count": 1378,
   "metadata": {},
   "outputs": [
    {
     "data": {
      "text/plain": [
       "array([ 2,  4, -5,  8, -9])"
      ]
     },
     "execution_count": 1378,
     "metadata": {},
     "output_type": "execute_result"
    }
   ],
   "source": [
    "# 부호 절대값\n",
    "x = np.array([2,4,-5,8,-9])\n",
    "x"
   ]
  },
  {
   "cell_type": "code",
   "execution_count": 1379,
   "metadata": {},
   "outputs": [
    {
     "data": {
      "text/plain": [
       "array([ 1,  1, -1,  1, -1])"
      ]
     },
     "execution_count": 1379,
     "metadata": {},
     "output_type": "execute_result"
    }
   ],
   "source": [
    "np.sign(x) # -> 양수, 음수 부호\n",
    "# 각 요소에 대해 부호를 반환함.\n",
    "# 1은 양수\n",
    "# -1은 음수"
   ]
  },
  {
   "cell_type": "code",
   "execution_count": 1380,
   "metadata": {},
   "outputs": [
    {
     "data": {
      "text/plain": [
       "array([-2, -4,  5, -8,  9])"
      ]
     },
     "execution_count": 1380,
     "metadata": {},
     "output_type": "execute_result"
    }
   ],
   "source": [
    "np.negative(x)\n",
    "# not 연산자 역할\n"
   ]
  },
  {
   "cell_type": "code",
   "execution_count": 1381,
   "metadata": {},
   "outputs": [
    {
     "data": {
      "text/plain": [
       "array([ 2,  4, -5,  8, -9])"
      ]
     },
     "execution_count": 1381,
     "metadata": {},
     "output_type": "execute_result"
    }
   ],
   "source": [
    "np.positive(x)\n",
    "# 그대로"
   ]
  },
  {
   "cell_type": "code",
   "execution_count": 1382,
   "metadata": {},
   "outputs": [
    {
     "data": {
      "text/plain": [
       "array([2, 4, 5, 8, 9])"
      ]
     },
     "execution_count": 1382,
     "metadata": {},
     "output_type": "execute_result"
    }
   ],
   "source": [
    "np.abs(x) # = positive"
   ]
  },
  {
   "cell_type": "code",
   "execution_count": 1383,
   "metadata": {},
   "outputs": [
    {
     "data": {
      "text/plain": [
       "array([2, 4, 5, 8, 9])"
      ]
     },
     "execution_count": 1383,
     "metadata": {},
     "output_type": "execute_result"
    }
   ],
   "source": [
    "np.absolute(x)\n",
    "# np.absolute와 np.abs는 동일한 기능을 수행하며 서로 대체 가능함\n",
    "# 배열의 요소들에 대해 절대 값을 반환함"
   ]
  },
  {
   "cell_type": "code",
   "execution_count": 1384,
   "metadata": {},
   "outputs": [
    {
     "data": {
      "text/plain": [
       "array([ 4, 16, 25, 64, 81])"
      ]
     },
     "execution_count": 1384,
     "metadata": {},
     "output_type": "execute_result"
    }
   ],
   "source": [
    "# 제곱근, 제곱\n",
    "np.square(x)"
   ]
  },
  {
   "cell_type": "code",
   "execution_count": 1385,
   "metadata": {},
   "outputs": [
    {
     "data": {
      "text/plain": [
       "array([ 4, 16, 25, 64, 81], dtype=int32)"
      ]
     },
     "execution_count": 1385,
     "metadata": {},
     "output_type": "execute_result"
    }
   ],
   "source": [
    "np.power(x,2)"
   ]
  },
  {
   "cell_type": "code",
   "execution_count": 1386,
   "metadata": {},
   "outputs": [
    {
     "data": {
      "text/plain": [
       "array([   8,   64, -125,  512, -729], dtype=int32)"
      ]
     },
     "execution_count": 1386,
     "metadata": {},
     "output_type": "execute_result"
    }
   ],
   "source": [
    "np.power(x,3)"
   ]
  },
  {
   "cell_type": "code",
   "execution_count": 1387,
   "metadata": {},
   "outputs": [
    {
     "data": {
      "text/plain": [
       "array([2., 4., 5., 8., 9.])"
      ]
     },
     "execution_count": 1387,
     "metadata": {},
     "output_type": "execute_result"
    }
   ],
   "source": [
    "np.sqrt(np.power(x,2))\n",
    "# 배열의 각 요소에 대해 제곱근을 씌움"
   ]
  },
  {
   "cell_type": "code",
   "execution_count": 1388,
   "metadata": {},
   "outputs": [],
   "source": [
    "# 논리 연산"
   ]
  },
  {
   "cell_type": "code",
   "execution_count": 1389,
   "metadata": {},
   "outputs": [],
   "source": [
    "# 비교연산"
   ]
  },
  {
   "cell_type": "code",
   "execution_count": 1390,
   "metadata": {},
   "outputs": [
    {
     "data": {
      "text/plain": [
       "array([ 1,  2,  3,  4,  5,  6,  7,  8,  9, 10])"
      ]
     },
     "execution_count": 1390,
     "metadata": {},
     "output_type": "execute_result"
    }
   ],
   "source": [
    "#수열의 합\n",
    "a = np.arange(1,11)\n",
    "a"
   ]
  },
  {
   "cell_type": "code",
   "execution_count": 1391,
   "metadata": {},
   "outputs": [
    {
     "data": {
      "text/plain": [
       "55"
      ]
     },
     "execution_count": 1391,
     "metadata": {},
     "output_type": "execute_result"
    }
   ],
   "source": [
    "np.sum(a)"
   ]
  },
  {
   "cell_type": "code",
   "execution_count": 1392,
   "metadata": {},
   "outputs": [
    {
     "data": {
      "text/plain": [
       "array([ 1,  3,  6, 10, 15, 21, 28, 36, 45, 55])"
      ]
     },
     "execution_count": 1392,
     "metadata": {},
     "output_type": "execute_result"
    }
   ],
   "source": [
    "np.cumsum(a) # 누적 합, 누적 도수 분포표사용"
   ]
  },
  {
   "cell_type": "code",
   "execution_count": 1495,
   "metadata": {},
   "outputs": [
    {
     "data": {
      "text/plain": [
       "array([      1,       2,       6,      24,     120,     720,    5040,\n",
       "         40320,  362880, 3628800])"
      ]
     },
     "execution_count": 1495,
     "metadata": {},
     "output_type": "execute_result"
    }
   ],
   "source": [
    "# 수열의 곱\n",
    "b = np.arange(1,11).reshape(2,5)\n",
    "b\n",
    "np.prod(b)\n",
    "np.prod(b, axis=0) # 위아래로 곱함\n",
    "np.prod(b, axis=1) # 각 행끼리 따로따로 곱함\n",
    "np.cumprod(b) # 첫번째 요소부터 차례대로 곱함"
   ]
  },
  {
   "cell_type": "code",
   "execution_count": 1496,
   "metadata": {},
   "outputs": [
    {
     "data": {
      "text/plain": [
       "1.0"
      ]
     },
     "execution_count": 1496,
     "metadata": {},
     "output_type": "execute_result"
    }
   ],
   "source": [
    "# 지수와 로그 함수 이해하기\n",
    "# 자연 상수의 지수\n",
    "np.exp(0) # -> e의 0에 제곱을 계산함"
   ]
  },
  {
   "cell_type": "code",
   "execution_count": 1501,
   "metadata": {},
   "outputs": [
    {
     "data": {
      "text/plain": [
       "147.4131591025766"
      ]
     },
     "execution_count": 1501,
     "metadata": {},
     "output_type": "execute_result"
    }
   ],
   "source": [
    "#지수함수\n",
    "x = np.arange(5)\n",
    "np.exp2(x) # exp 거듭제곱을 의미함\n",
    "np.expm1(5) # 자연 상수 e의 5를 제곱하고 여기에서 1을 뺌"
   ]
  },
  {
   "cell_type": "code",
   "execution_count": 1506,
   "metadata": {},
   "outputs": [
    {
     "data": {
      "text/plain": [
       "array([10., 12., 13., 13., 13., 14., 14., 14., 14., 14.])"
      ]
     },
     "execution_count": 1506,
     "metadata": {},
     "output_type": "execute_result"
    }
   ],
   "source": [
    "# 로그함수\n",
    "x = np.arange(10000,1000000,100000)\n",
    "np.log(x)\n",
    "np.ceil(np.log(x)) # np.log(x)를 계산하고 그 값을 올림하여 정수로 변환함\n"
   ]
  },
  {
   "cell_type": "code",
   "execution_count": 1397,
   "metadata": {},
   "outputs": [],
   "source": [
    "# 결측값계산\n"
   ]
  },
  {
   "cell_type": "code",
   "execution_count": 1398,
   "metadata": {},
   "outputs": [
    {
     "data": {
      "text/plain": [
       "array([[1, 2, 3],\n",
       "       [4, 5, 6],\n",
       "       [3, 4, 5]])"
      ]
     },
     "execution_count": 1398,
     "metadata": {},
     "output_type": "execute_result"
    }
   ],
   "source": [
    "# 집합 이해하기\n",
    "# 유일한 원소/포함관계 확인\n",
    "# 배열을 하나의 집합으로 처리할 수 있는 함수들을 제공\n",
    "x = np.array([[1,2,3],[4,5,6], [3,4,5]])\n",
    "x"
   ]
  },
  {
   "cell_type": "code",
   "execution_count": 1399,
   "metadata": {},
   "outputs": [
    {
     "data": {
      "text/plain": [
       "array([1, 2, 3, 4, 5, 6])"
      ]
     },
     "execution_count": 1399,
     "metadata": {},
     "output_type": "execute_result"
    }
   ],
   "source": [
    "np.unique(x) # 중복되지않는 고유한 값 출력"
   ]
  },
  {
   "cell_type": "code",
   "execution_count": 1400,
   "metadata": {},
   "outputs": [
    {
     "data": {
      "text/plain": [
       "array([0, 1, 2, 3, 4])"
      ]
     },
     "execution_count": 1400,
     "metadata": {},
     "output_type": "execute_result"
    }
   ],
   "source": [
    "x = np.arange( 5 )\n",
    "x # 지정한 범위내에서 일정한 간격을 가진 숫자들을 출력하기"
   ]
  },
  {
   "cell_type": "code",
   "execution_count": 1401,
   "metadata": {},
   "outputs": [
    {
     "data": {
      "text/plain": [
       "array([[1, 2, 3],\n",
       "       [4, 5, 6],\n",
       "       [3, 4, 5]])"
      ]
     },
     "execution_count": 1401,
     "metadata": {},
     "output_type": "execute_result"
    }
   ],
   "source": [
    "# 합집합, 교집합\n",
    "x = np.array([[1,2,3],[4,5,6],[3,4,5]])\n",
    "x"
   ]
  },
  {
   "cell_type": "code",
   "execution_count": 1402,
   "metadata": {},
   "outputs": [
    {
     "data": {
      "text/plain": [
       "array([[11, 21, 13],\n",
       "       [ 4, 15,  6],\n",
       "       [ 3, 14,  5]])"
      ]
     },
     "execution_count": 1402,
     "metadata": {},
     "output_type": "execute_result"
    }
   ],
   "source": [
    "y = np.array([[11,21,13],[4,15,6],[3,14,5]])\n",
    "y"
   ]
  },
  {
   "cell_type": "code",
   "execution_count": 1403,
   "metadata": {},
   "outputs": [
    {
     "data": {
      "text/plain": [
       "array([ 1,  2,  3,  4,  5,  6, 11, 13, 14, 15, 21])"
      ]
     },
     "execution_count": 1403,
     "metadata": {},
     "output_type": "execute_result"
    }
   ],
   "source": [
    "union_array = np.union1d(x, y) # 합집합\n",
    "union_array"
   ]
  },
  {
   "cell_type": "code",
   "execution_count": 1404,
   "metadata": {},
   "outputs": [
    {
     "data": {
      "text/plain": [
       "array([3, 4, 5, 6])"
      ]
     },
     "execution_count": 1404,
     "metadata": {},
     "output_type": "execute_result"
    }
   ],
   "source": [
    "intersection_array = np.intersect1d(x, y) # 교집합\n",
    "intersection_array"
   ]
  },
  {
   "cell_type": "code",
   "execution_count": 1405,
   "metadata": {},
   "outputs": [
    {
     "data": {
      "text/plain": [
       "array([1, 2, 3, 4, 5, 6])"
      ]
     },
     "execution_count": 1405,
     "metadata": {},
     "output_type": "execute_result"
    }
   ],
   "source": [
    "# 차집합과 대칭차집합\n",
    "a = np.unique(x) \n",
    "a"
   ]
  },
  {
   "cell_type": "code",
   "execution_count": 1406,
   "metadata": {},
   "outputs": [
    {
     "data": {
      "text/plain": [
       "array([ 3,  4,  5,  6, 11, 13, 14, 15, 21])"
      ]
     },
     "execution_count": 1406,
     "metadata": {},
     "output_type": "execute_result"
    }
   ],
   "source": [
    "b = np.unique(y)\n",
    "b"
   ]
  },
  {
   "cell_type": "code",
   "execution_count": 1407,
   "metadata": {},
   "outputs": [
    {
     "data": {
      "text/plain": [
       "array([1, 2])"
      ]
     },
     "execution_count": 1407,
     "metadata": {},
     "output_type": "execute_result"
    }
   ],
   "source": [
    "# 차집합\n",
    "c = np.setdiff1d(a, b)\n",
    "c"
   ]
  },
  {
   "cell_type": "code",
   "execution_count": 1408,
   "metadata": {},
   "outputs": [
    {
     "data": {
      "text/plain": [
       "array([ 1,  2, 11, 13, 14, 15, 21])"
      ]
     },
     "execution_count": 1408,
     "metadata": {},
     "output_type": "execute_result"
    }
   ],
   "source": [
    "d = np.setxor1d(a, b) #대칭차집합\n",
    "d"
   ]
  },
  {
   "cell_type": "code",
   "execution_count": 1409,
   "metadata": {},
   "outputs": [
    {
     "data": {
      "text/plain": [
       "array([0.01745241, 0.0348995 , 0.05233596, 0.06975647, 0.08715574,\n",
       "       0.10452846])"
      ]
     },
     "execution_count": 1409,
     "metadata": {},
     "output_type": "execute_result"
    }
   ],
   "source": [
    "# 삼각함수\n",
    "np.sin(a*np.pi / 180.)\n",
    "# 각도 a를 라디안 단위로 변환하는 과정임\n",
    "# 라디안은 원의 반지름과 동일한 길이의 호를 포함하는 중심각임\n",
    "# 원의 전체 둘레는 2x(3.14) 라디안임 -> 360도\n",
    "# 1라디안은 180/3.14 = 약 57.2958도\n",
    "# 3.14/180으로 곱함\n",
    "\n",
    "# sin\n",
    "# 높이/대각선\n",
    "\n",
    "# cos\n",
    "# 대각선 / 밑변\n",
    "\n",
    "# tan\n",
    "# 높이 / 밑변"
   ]
  },
  {
   "cell_type": "code",
   "execution_count": 1410,
   "metadata": {},
   "outputs": [
    {
     "data": {
      "text/plain": [
       "array([0.01745241, 0.0348995 , 0.05233596, 0.06975647, 0.08715574,\n",
       "       0.10452846])"
      ]
     },
     "execution_count": 1410,
     "metadata": {},
     "output_type": "execute_result"
    }
   ],
   "source": [
    "np.sin(np.radians(a))"
   ]
  },
  {
   "cell_type": "code",
   "execution_count": 1411,
   "metadata": {},
   "outputs": [
    {
     "data": {
      "text/plain": [
       "array([0.9998477 , 0.99939083, 0.99862953, 0.99756405, 0.9961947 ,\n",
       "       0.9945219 ])"
      ]
     },
     "execution_count": 1411,
     "metadata": {},
     "output_type": "execute_result"
    }
   ],
   "source": [
    "np.cos(a*np.pi/180.)"
   ]
  },
  {
   "cell_type": "code",
   "execution_count": 1412,
   "metadata": {},
   "outputs": [
    {
     "data": {
      "text/plain": [
       "array([0.9998477 , 0.99939083, 0.99862953, 0.99756405, 0.9961947 ,\n",
       "       0.9945219 ])"
      ]
     },
     "execution_count": 1412,
     "metadata": {},
     "output_type": "execute_result"
    }
   ],
   "source": [
    "np.cos(np.radians(a))"
   ]
  },
  {
   "cell_type": "code",
   "execution_count": 1413,
   "metadata": {},
   "outputs": [
    {
     "data": {
      "text/plain": [
       "array([0.01745506, 0.03492077, 0.05240778, 0.06992681, 0.08748866,\n",
       "       0.10510424])"
      ]
     },
     "execution_count": 1413,
     "metadata": {},
     "output_type": "execute_result"
    }
   ],
   "source": [
    "np.tan(a*np.pi / 180.)"
   ]
  },
  {
   "cell_type": "code",
   "execution_count": 1414,
   "metadata": {},
   "outputs": [
    {
     "data": {
      "text/plain": [
       "array([0.01745506, 0.03492077, 0.05240778, 0.06992681, 0.08748866,\n",
       "       0.10510424])"
      ]
     },
     "execution_count": 1414,
     "metadata": {},
     "output_type": "execute_result"
    }
   ],
   "source": [
    "np.tan(np.radians(a))"
   ]
  },
  {
   "cell_type": "code",
   "execution_count": 1415,
   "metadata": {},
   "outputs": [
    {
     "data": {
      "image/png": "[encoded data removed]",
      "text/plain": [
       "<Figure size 640x480 with 1 Axes>"
      ]
     },
     "metadata": {},
     "output_type": "display_data"
    }
   ],
   "source": [
    "# 쌍곡선함수\n",
    "in_array = np.linspace(-2 * np.pi, 2*np.pi,100)\n",
    "out_tanh = np.tanh(in_array)\n",
    "# tanh의 출력은 항상 -1과 1tkdldp dnlclgka\n",
    "# x의 값이 양수로 클수록 1에 가까워지고, x의 값이 음수로 작을 수록 -1에 가까워짐\n",
    "plt.plot(in_array, out_tanh, color = 'red', marker=\"o\")\n",
    "plt.title(\"numpy.tanh\")\n",
    "plt.xlabel(\"X\")\n",
    "plt.ylabel(\"Y\")\n",
    "plt.show()"
   ]
  },
  {
   "cell_type": "code",
   "execution_count": 1507,
   "metadata": {},
   "outputs": [
    {
     "data": {
      "text/plain": [
       "0.6961463018966991"
      ]
     },
     "execution_count": 1507,
     "metadata": {},
     "output_type": "execute_result"
    }
   ],
   "source": [
    "#균등분포\n",
    "# np.uniform\n",
    "# 균등 분포란, 주어진 범위 내에서 모든 값이 동일한 확률로 선택 될 수 있는 분포를 의미함\n",
    "np.random.uniform(low=0.0, high=1.0, size=None)"
   ]
  },
  {
   "cell_type": "code",
   "execution_count": 1510,
   "metadata": {},
   "outputs": [
    {
     "data": {
      "image/png": "[encoded data removed]",
      "text/plain": [
       "<Figure size 640x480 with 1 Axes>"
      ]
     },
     "metadata": {},
     "output_type": "display_data"
    }
   ],
   "source": [
    "#정규분포\n",
    "mu, sigma = 0,1\n",
    "s = np.random.normal(mu, sigma, 1000)\n",
    "plt.hist(s)\n",
    "plt.show()"
   ]
  },
  {
   "cell_type": "code",
   "execution_count": 1418,
   "metadata": {},
   "outputs": [
    {
     "data": {
      "text/plain": [
       "array([[3, 7, 5],\n",
       "       [8, 4, 3],\n",
       "       [2, 4, 9]])"
      ]
     },
     "execution_count": 1418,
     "metadata": {},
     "output_type": "execute_result"
    }
   ],
   "source": [
    "#범위\n",
    "# 최대값에서 최소값을 뺀 범위, 특정 수가 어느 % 내에 속하는지 확인\n",
    "a = np.array([[3,7,5],[8,4,3],[2,4,9]])\n",
    "a"
   ]
  },
  {
   "cell_type": "code",
   "execution_count": 1419,
   "metadata": {},
   "outputs": [
    {
     "data": {
      "text/plain": [
       "(9, 2)"
      ]
     },
     "execution_count": 1419,
     "metadata": {},
     "output_type": "execute_result"
    }
   ],
   "source": [
    "np.max(a), np.min(a)"
   ]
  },
  {
   "cell_type": "code",
   "execution_count": 1420,
   "metadata": {},
   "outputs": [
    {
     "data": {
      "text/plain": [
       "7"
      ]
     },
     "execution_count": 1420,
     "metadata": {},
     "output_type": "execute_result"
    }
   ],
   "source": [
    "np.max(a) - np.min(a)"
   ]
  },
  {
   "cell_type": "code",
   "execution_count": 1421,
   "metadata": {},
   "outputs": [
    {
     "data": {
      "text/plain": [
       "7"
      ]
     },
     "execution_count": 1421,
     "metadata": {},
     "output_type": "execute_result"
    }
   ],
   "source": [
    "np.ptp(a)\n",
    "# 배열의 최댓값과 최소값 간의 차이를 계산하여 반환함."
   ]
  },
  {
   "cell_type": "code",
   "execution_count": 1422,
   "metadata": {},
   "outputs": [
    {
     "data": {
      "text/plain": [
       "4.0"
      ]
     },
     "execution_count": 1422,
     "metadata": {},
     "output_type": "execute_result"
    }
   ],
   "source": [
    "np.percentile(a,50)\n",
    "# a의 모든 요소를 오름차순으로 정렬한 후, 중간에 위치한 값을 반환함."
   ]
  },
  {
   "cell_type": "code",
   "execution_count": 1423,
   "metadata": {},
   "outputs": [
    {
     "data": {
      "text/plain": [
       "array([2, 3, 3, 4, 5, 8, 9])"
      ]
     },
     "execution_count": 1423,
     "metadata": {},
     "output_type": "execute_result"
    }
   ],
   "source": [
    "# 평균과 중앙값\n",
    "d = np. array([3,4,2,3,8,9,5])\n",
    "np.median(d)\n",
    "np.sort(d)"
   ]
  },
  {
   "cell_type": "code",
   "execution_count": 1424,
   "metadata": {},
   "outputs": [
    {
     "data": {
      "text/plain": [
       "4.857142857142857"
      ]
     },
     "execution_count": 1424,
     "metadata": {},
     "output_type": "execute_result"
    }
   ],
   "source": [
    "d.mean()\n",
    "np.mean(d)\n",
    "np.average(d)"
   ]
  },
  {
   "cell_type": "code",
   "execution_count": 1425,
   "metadata": {},
   "outputs": [
    {
     "data": {
      "text/plain": [
       "array([[3, 7, 5],\n",
       "       [8, 4, 3],\n",
       "       [2, 4, 9]])"
      ]
     },
     "execution_count": 1425,
     "metadata": {},
     "output_type": "execute_result"
    }
   ],
   "source": [
    "# 모분산, 모표준편차\n",
    "# 전체를 모집단으로 생각해서 분산(VAR)과 표준편차(std)를 구합니다\n",
    "# 표본에 대한 기준을 정의 할때 ddof는 기본 값을 조정해서 분산과 표준편차를 구함\n",
    "a = np.array([[3,7,5],[8,4,3],[2,4,9]])\n",
    "a"
   ]
  },
  {
   "cell_type": "code",
   "execution_count": 1426,
   "metadata": {},
   "outputs": [
    {
     "data": {
      "text/plain": [
       "5.333333333333333"
      ]
     },
     "execution_count": 1426,
     "metadata": {},
     "output_type": "execute_result"
    }
   ],
   "source": [
    "np.var(a)"
   ]
  },
  {
   "cell_type": "code",
   "execution_count": 1427,
   "metadata": {},
   "outputs": [
    {
     "data": {
      "text/plain": [
       "2.309401076758503"
      ]
     },
     "execution_count": 1427,
     "metadata": {},
     "output_type": "execute_result"
    }
   ],
   "source": [
    "np.sqrt(np.var(a))\n",
    "# np.var(배열) 배열의 분산을 계산합니다\n",
    "# np.sqrt 주어진 값의 제곱근을 출력해줌.\n",
    "# 이를 통해 데이터의 흩어짐 정도롤 파악할 수 있음"
   ]
  },
  {
   "cell_type": "code",
   "execution_count": 1428,
   "metadata": {},
   "outputs": [
    {
     "data": {
      "text/plain": [
       "2.309401076758503"
      ]
     },
     "execution_count": 1428,
     "metadata": {},
     "output_type": "execute_result"
    }
   ],
   "source": [
    "np.std(a)\n",
    "#표준편차 : 데이터가 평균으로부터 얼마나 퍼져 있는지 나타내는 척도\n",
    "# 이 함수는 a의 각 요소가 평균으로부터 얼마나 떨어져있는지를 나타내는 값을 반환함."
   ]
  },
  {
   "cell_type": "code",
   "execution_count": 1429,
   "metadata": {},
   "outputs": [
    {
     "data": {
      "text/plain": [
       "9.238095238095239"
      ]
     },
     "execution_count": 1429,
     "metadata": {},
     "output_type": "execute_result"
    }
   ],
   "source": [
    "# 표본분산, 표본표준편차\n",
    "# 표본 분산에 대해서도 구할 때는 ddof=1로 처리하면 됩니다. 표본 분산에 대해서도 구할 때는 ddof=1로 처리하면 됨\n",
    "f = np.array([1,4,3,8,9,2,3])\n",
    "np.var(f,ddof=1)\n",
    "# ddof 분산과 표준편차를 계산 할 때 분모에서 자유도를 조정하는 인자입니다.\n",
    "# 자유도는 표본 데이터중에서 자유롭게 변할 수 있는 값의 수를 의미함\n",
    "# 표본 분산, 표본 표준편차, t-검정, 카이제곱 검정에서 사용함.\n",
    "# ddof=0 모집단 분산을 계산함.\n",
    "# ddof=1 표본 분산을 계산하며, 분모를 N-1로 설정하여 데이터가 전체 모집단의 일부라고 가정 할 때 사용함"
   ]
  },
  {
   "cell_type": "code",
   "execution_count": 1430,
   "metadata": {},
   "outputs": [
    {
     "data": {
      "text/plain": [
       "3.0394235042348474"
      ]
     },
     "execution_count": 1430,
     "metadata": {},
     "output_type": "execute_result"
    }
   ],
   "source": [
    "np.std(f,ddof=1)"
   ]
  },
  {
   "cell_type": "code",
   "execution_count": 1431,
   "metadata": {},
   "outputs": [
    {
     "data": {
      "text/plain": [
       "3.0394235042348474"
      ]
     },
     "execution_count": 1431,
     "metadata": {},
     "output_type": "execute_result"
    }
   ],
   "source": [
    "np.sqrt(np.var(f, ddof=1))"
   ]
  },
  {
   "cell_type": "code",
   "execution_count": 1432,
   "metadata": {},
   "outputs": [
    {
     "data": {
      "text/plain": [
       "array([5, 6, 7, 8])"
      ]
     },
     "execution_count": 1432,
     "metadata": {},
     "output_type": "execute_result"
    }
   ],
   "source": [
    "# 상관계수, 공분산\n",
    "a = np.array([5,6,7,8])\n",
    "a"
   ]
  },
  {
   "cell_type": "code",
   "execution_count": 1433,
   "metadata": {},
   "outputs": [
    {
     "data": {
      "text/plain": [
       "array([1, 3, 4, 5])"
      ]
     },
     "execution_count": 1433,
     "metadata": {},
     "output_type": "execute_result"
    }
   ],
   "source": [
    "b = np.array([1,3,4,5])\n",
    "b"
   ]
  },
  {
   "cell_type": "code",
   "execution_count": 1434,
   "metadata": {},
   "outputs": [
    {
     "data": {
      "text/plain": [
       "array([[1.        , 0.98270763],\n",
       "       [0.98270763, 1.        ]])"
      ]
     },
     "execution_count": 1434,
     "metadata": {},
     "output_type": "execute_result"
    }
   ],
   "source": [
    "np.corrcoef(a,b)\n",
    "# 두 개이상의 배열 간의 상관계수를 계산 할 때 사용함\n",
    "# 상관계수 행렬을 반환하며 이 행렬의 각 요소는 두 변수 간의 상관관계를 나타냄\n",
    "# 상관계수 값이 1인 경우 : 두 변수는 완전히 같은 방향으로 변화하는 양의 상관관계를 가짐\n",
    "# 상관계수 값이 -1인 경우 : 두 변수는 완전히 반대 방향으로 변화하는 음의 상관관계를 가짐\n",
    "# 값이 1에 가까울 수록 강한 양의 선형 관계를 의미\n",
    "# 값이 -1에 가까울 수록 강한 음의 선형 관계를 의미함"
   ]
  },
  {
   "cell_type": "code",
   "execution_count": 1435,
   "metadata": {},
   "outputs": [
    {
     "data": {
      "text/plain": [
       "array([[1.66666667, 2.16666667],\n",
       "       [2.16666667, 2.91666667]])"
      ]
     },
     "execution_count": 1435,
     "metadata": {},
     "output_type": "execute_result"
    }
   ],
   "source": [
    "np.cov(a,b)\n",
    "# 공분산을 계산함.\n",
    "# 공분산은 상관계수와 유사하지만, 데이터의 단위를 유지하고, 값의 범위에 제한이 없음\n",
    "# 양의 공분산 : 두 변수 간의 값이 함께 증가하는 경향이 있음\n",
    "# 음의 공분산 : 한 변수가 커질 때 다른 변수가 작아지는 경향이 있음\n",
    "# 공분산이 0에 가까운경우 : 두 변수 간에 선형적인 관계가 거의 없음을 의미함"
   ]
  },
  {
   "cell_type": "code",
   "execution_count": 1436,
   "metadata": {},
   "outputs": [
    {
     "name": "stdout",
     "output_type": "stream",
     "text": [
      "   2\n",
      "1 x - 2 x + 1\n"
     ]
    }
   ],
   "source": [
    "# 방정식 처리 알아보기\n",
    "ef = np.array([1,-2,1])\n",
    "p = np.poly1d(ef)\n",
    "# 다항식을 생성하고 그 다항식을 출력함\n",
    "# 다항식을 정의하고 이를 시각적으로 표현할 수 있음\n",
    "print(p)"
   ]
  },
  {
   "cell_type": "code",
   "execution_count": 1437,
   "metadata": {},
   "outputs": [
    {
     "data": {
      "text/plain": [
       "numpy.poly1d"
      ]
     },
     "execution_count": 1437,
     "metadata": {},
     "output_type": "execute_result"
    }
   ],
   "source": [
    "type(p)"
   ]
  },
  {
   "cell_type": "code",
   "execution_count": 1438,
   "metadata": {},
   "outputs": [
    {
     "data": {
      "text/plain": [
       "array([2., 3.])"
      ]
     },
     "execution_count": 1438,
     "metadata": {},
     "output_type": "execute_result"
    }
   ],
   "source": [
    "#연립방정식 이해하기\n",
    "a = np.array([[3,1],[1,2]])\n",
    "b = np.array([9,8])\n",
    "x = np.linalg.solve(a, b)\n",
    "x\n",
    "# 이 함수는 선형 방정식의 해를 계산하는데 사용됨.\n",
    "# a는 2x2 행렬이고 연립방정식의 계수를 나타냄\n",
    "# b는 결과 벡터임"
   ]
  },
  {
   "cell_type": "code",
   "execution_count": 1439,
   "metadata": {},
   "outputs": [
    {
     "data": {
      "text/plain": [
       "True"
      ]
     },
     "execution_count": 1439,
     "metadata": {},
     "output_type": "execute_result"
    }
   ],
   "source": [
    "np.allclose(np.dot(a, x), b)\n",
    "# np.dot(a,x)로 a와 벡터 x의 행렬 곱을 계산함\n",
    "# 새로운 벡터를 반환함\n",
    "# np.allclose를 사용하여 \n",
    "# 반환 값이 b 행렬과 수치적으로 거의 같은지를 비교함\n",
    "# 같으면 True, 그렇지 않으면 False 반환"
   ]
  },
  {
   "cell_type": "code",
   "execution_count": 1440,
   "metadata": {},
   "outputs": [],
   "source": [
    "A = np.array([[1,0,0],[1,1,1],[6,7,0]])\n",
    "b = np.array([0,24,0])"
   ]
  },
  {
   "cell_type": "code",
   "execution_count": 1441,
   "metadata": {},
   "outputs": [
    {
     "data": {
      "text/plain": [
       "array([ 0.,  0., 24.])"
      ]
     },
     "execution_count": 1441,
     "metadata": {},
     "output_type": "execute_result"
    }
   ],
   "source": [
    "A_1 = np.linalg.inv(A)\n",
    "x = np.dot(A_1, b)\n",
    "x"
   ]
  },
  {
   "cell_type": "code",
   "execution_count": 1442,
   "metadata": {},
   "outputs": [
    {
     "data": {
      "text/plain": [
       "True"
      ]
     },
     "execution_count": 1442,
     "metadata": {},
     "output_type": "execute_result"
    }
   ],
   "source": [
    "np.allclose(np.dot(A_1, b), x)\n",
    "# 행렬의 역행렬과 행렬 곱을 사용함\n",
    "# A의 역행렬(A_1)과 b의 행렬곱을 계산함"
   ]
  },
  {
   "cell_type": "code",
   "execution_count": 1443,
   "metadata": {},
   "outputs": [
    {
     "data": {
      "text/plain": [
       "array([ 0., -0., 24.])"
      ]
     },
     "execution_count": 1443,
     "metadata": {},
     "output_type": "execute_result"
    }
   ],
   "source": [
    "np.linalg.solve(A, b)\n",
    "# A의 계수는 행렬이고 b는 결과 벡터임\n",
    "# 과학, 공학, 데이터 분석에서 널리 사용됨"
   ]
  },
  {
   "cell_type": "code",
   "execution_count": 1444,
   "metadata": {},
   "outputs": [
    {
     "data": {
      "text/plain": [
       "True"
      ]
     },
     "execution_count": 1444,
     "metadata": {},
     "output_type": "execute_result"
    }
   ],
   "source": [
    "np.allclose(np.dot(A_1, b), x )"
   ]
  },
  {
   "cell_type": "code",
   "execution_count": 1445,
   "metadata": {},
   "outputs": [
    {
     "data": {
      "text/plain": [
       "3"
      ]
     },
     "execution_count": 1445,
     "metadata": {},
     "output_type": "execute_result"
    }
   ],
   "source": [
    "#lstsq 함수로 연립 방정식 풀기\n",
    "np.linalg.matrix_rank(A)"
   ]
  },
  {
   "cell_type": "code",
   "execution_count": 1446,
   "metadata": {},
   "outputs": [
    {
     "data": {
      "text/plain": [
       "array([ 3.05504346e-15, -2.56636673e-15,  2.40000000e+01])"
      ]
     },
     "execution_count": 1446,
     "metadata": {},
     "output_type": "execute_result"
    }
   ],
   "source": [
    "x, resid, rank, singulr = np.linalg.lstsq(A,b, rcond=-1)\n",
    "x"
   ]
  },
  {
   "cell_type": "code",
   "execution_count": 1447,
   "metadata": {},
   "outputs": [
    {
     "data": {
      "text/plain": [
       "True"
      ]
     },
     "execution_count": 1447,
     "metadata": {},
     "output_type": "execute_result"
    }
   ],
   "source": [
    "np.allclose(np.dot(A, x), b)"
   ]
  },
  {
   "cell_type": "code",
   "execution_count": 1448,
   "metadata": {},
   "outputs": [
    {
     "data": {
      "text/plain": [
       "array([ 1,  2,  4,  7, 10])"
      ]
     },
     "execution_count": 1448,
     "metadata": {},
     "output_type": "execute_result"
    }
   ],
   "source": [
    "# diff 함수 알아보기\n",
    "x = np.array([1, 2, 4, 7, 10])\n",
    "x"
   ]
  },
  {
   "cell_type": "code",
   "execution_count": 1449,
   "metadata": {},
   "outputs": [
    {
     "data": {
      "text/plain": [
       "array([1, 2, 3, 3])"
      ]
     },
     "execution_count": 1449,
     "metadata": {},
     "output_type": "execute_result"
    }
   ],
   "source": [
    "np.diff(x)"
   ]
  },
  {
   "cell_type": "code",
   "execution_count": 1450,
   "metadata": {},
   "outputs": [
    {
     "data": {
      "text/plain": [
       "array([1, 1, 0])"
      ]
     },
     "execution_count": 1450,
     "metadata": {},
     "output_type": "execute_result"
    }
   ],
   "source": [
    "np.diff(x, n=2)"
   ]
  },
  {
   "cell_type": "code",
   "execution_count": 1451,
   "metadata": {},
   "outputs": [],
   "source": [
    "c = np.diff(x)"
   ]
  },
  {
   "cell_type": "code",
   "execution_count": 1452,
   "metadata": {},
   "outputs": [
    {
     "data": {
      "text/plain": [
       "array([1, 1, 0])"
      ]
     },
     "execution_count": 1452,
     "metadata": {},
     "output_type": "execute_result"
    }
   ],
   "source": [
    "np.diff(c)"
   ]
  },
  {
   "cell_type": "code",
   "execution_count": 1453,
   "metadata": {},
   "outputs": [
    {
     "name": "stdout",
     "output_type": "stream",
     "text": [
      "[ 1 -2  1]\n",
      "18\n"
     ]
    }
   ],
   "source": [
    "# 다항식으로 미분하기\n",
    "a = np.array([1,-2,1])\n",
    "p = np.poly1d(a)\n",
    "print(a)\n",
    "d = np.polyder(p)\n",
    "print(d(10))"
   ]
  },
  {
   "cell_type": "code",
   "execution_count": 1454,
   "metadata": {},
   "outputs": [
    {
     "data": {
      "text/plain": [
       "-499999889.9999981"
      ]
     },
     "execution_count": 1454,
     "metadata": {},
     "output_type": "execute_result"
    }
   ],
   "source": [
    "# 중앙차분으로 미분 구하기\n",
    "x = 10\n",
    "def f(x):\n",
    "    return x**2\n",
    "def n_d(f,x):\n",
    "    delta_x = 1e-7\n",
    "    return f(x+delta_x) - f(x-delta_x) / (delta_x*2) # 중앙차분\n",
    "nd = n_d(f,x)\n",
    "nd"
   ]
  },
  {
   "cell_type": "code",
   "execution_count": 1455,
   "metadata": {},
   "outputs": [
    {
     "name": "stdout",
     "output_type": "stream",
     "text": [
      "[ 0.          0.20408163  0.40816327  0.6122449   0.81632653  1.02040816\n",
      "  1.2244898   1.42857143  1.63265306  1.83673469  2.04081633  2.24489796\n",
      "  2.44897959  2.65306122  2.85714286  3.06122449  3.26530612  3.46938776\n",
      "  3.67346939  3.87755102  4.08163265  4.28571429  4.48979592  4.69387755\n",
      "  4.89795918  5.10204082  5.30612245  5.51020408  5.71428571  5.91836735\n",
      "  6.12244898  6.32653061  6.53061224  6.73469388  6.93877551  7.14285714\n",
      "  7.34693878  7.55102041  7.75510204  7.95918367  8.16326531  8.36734694\n",
      "  8.57142857  8.7755102   8.97959184  9.18367347  9.3877551   9.59183673\n",
      "  9.79591837 10.        ]\n",
      "[array([[-7. , -6. , -7. ],\n",
      "       [-4. , -3.5, -4. ],\n",
      "       [-1. , -1. , -1. ]]), array([[10.,  1., -8.],\n",
      "       [11.,  1., -9.],\n",
      "       [11.,  1., -9.]])]\n"
     ]
    },
    {
     "data": {
      "text/plain": [
       "[array([[-3.5 , -3.  , -3.5 ],\n",
       "        [-2.  , -1.75, -2.  ],\n",
       "        [-0.5 , -0.5 , -0.5 ]]),\n",
       " array([[ 5. ,  0.5, -4. ],\n",
       "        [ 5.5,  0.5, -4.5],\n",
       "        [ 5.5,  0.5, -4.5]])]"
      ]
     },
     "execution_count": 1455,
     "metadata": {},
     "output_type": "execute_result"
    }
   ],
   "source": [
    "# Gradient로 미분\n",
    "x = np.linspace(0,10)\n",
    "print(x)\n",
    "dydx = np.gradient(y)\n",
    "print(dydx)\n",
    "np.gradient(y,2)"
   ]
  },
  {
   "cell_type": "code",
   "execution_count": 1456,
   "metadata": {},
   "outputs": [
    {
     "data": {
      "text/plain": [
       "array([0, 1, 2, 3, 4])"
      ]
     },
     "execution_count": 1456,
     "metadata": {},
     "output_type": "execute_result"
    }
   ],
   "source": [
    "# 적분 알아보기\n",
    "x2 = np.arange(5)\n",
    "x2"
   ]
  },
  {
   "cell_type": "code",
   "execution_count": 1457,
   "metadata": {},
   "outputs": [
    {
     "data": {
      "text/plain": [
       "22.0"
      ]
     },
     "execution_count": 1457,
     "metadata": {},
     "output_type": "execute_result"
    }
   ],
   "source": [
    "y2 = x2**2\n",
    "np.trapz(y2,x=x2)"
   ]
  },
  {
   "cell_type": "code",
   "execution_count": 1458,
   "metadata": {},
   "outputs": [
    {
     "data": {
      "text/plain": [
       "(21.333333333333336, 2.368475785867001e-13)"
      ]
     },
     "execution_count": 1458,
     "metadata": {},
     "output_type": "execute_result"
    }
   ],
   "source": [
    "from scipy.integrate import quad\n",
    "x2 = lambda x:x**2\n",
    "quad(x2, 0 ,4)"
   ]
  },
  {
   "cell_type": "code",
   "execution_count": 1459,
   "metadata": {},
   "outputs": [
    {
     "data": {
      "text/plain": [
       "(7,)"
      ]
     },
     "execution_count": 1459,
     "metadata": {},
     "output_type": "execute_result"
    }
   ],
   "source": [
    "# 1D 합성곱 함수 알아보기\n",
    "a = np.array([0, 1, 2, 3, 4, 5,6])\n",
    "v = np.array([0.2, 0.7])\n",
    "same = np.convolve(a,v, mode='same')\n",
    "same.shape"
   ]
  },
  {
   "cell_type": "code",
   "execution_count": 1460,
   "metadata": {},
   "outputs": [
    {
     "data": {
      "text/plain": [
       "array([0. , 0.2, 1.1, 2. , 2.9, 3.8, 4.7])"
      ]
     },
     "execution_count": 1460,
     "metadata": {},
     "output_type": "execute_result"
    }
   ],
   "source": [
    "same"
   ]
  },
  {
   "cell_type": "code",
   "execution_count": 1461,
   "metadata": {},
   "outputs": [
    {
     "data": {
      "text/plain": [
       "(8,)"
      ]
     },
     "execution_count": 1461,
     "metadata": {},
     "output_type": "execute_result"
    }
   ],
   "source": [
    "full = np.convolve(a,v, mode='full')\n",
    "full.shape"
   ]
  },
  {
   "cell_type": "code",
   "execution_count": 1462,
   "metadata": {},
   "outputs": [
    {
     "data": {
      "text/plain": [
       "array([0. , 0.2, 1.1, 2. , 2.9, 3.8, 4.7, 4.2])"
      ]
     },
     "execution_count": 1462,
     "metadata": {},
     "output_type": "execute_result"
    }
   ],
   "source": [
    "full"
   ]
  },
  {
   "cell_type": "code",
   "execution_count": 1463,
   "metadata": {},
   "outputs": [
    {
     "name": "stdout",
     "output_type": "stream",
     "text": [
      "(5, 5)\n"
     ]
    },
    {
     "data": {
      "text/plain": [
       "array([[3.535, 6.363, 6.363, 6.363, 2.828],\n",
       "       [5.656, 9.898, 9.898, 9.898, 4.242],\n",
       "       [5.656, 9.898, 9.898, 9.898, 4.242],\n",
       "       [5.656, 9.898, 9.898, 9.898, 4.242],\n",
       "       [2.121, 3.535, 3.535, 3.535, 1.414]])"
      ]
     },
     "execution_count": 1463,
     "metadata": {},
     "output_type": "execute_result"
    }
   ],
   "source": [
    "from scipy import signal\n",
    "# 2D 합성곱 함수 알아보기\n",
    "# 2D 배열 A와 커널 k\n",
    "A = np.array([[5, 4, 5, 4],\n",
    "              [3, 2, 3, 2],\n",
    "              [5, 4, 5, 4],\n",
    "              [3, 2, 3, 2]])\n",
    "\n",
    "k = np.array([[0.707,0.707], [0.707, 0.707]])\n",
    "\n",
    "# 2D 합성곱 (Convolution)\n",
    "grad = signal.convolve2d(A, k, boundary='fill', mode='full')\n",
    "\n",
    "# grad의 형태 출력\n",
    "print(grad.shape)\n",
    "grad"
   ]
  },
  {
   "cell_type": "code",
   "execution_count": 1464,
   "metadata": {},
   "outputs": [
    {
     "name": "stderr",
     "output_type": "stream",
     "text": [
      "C:\\Users\\KDP-26\\AppData\\Local\\Temp\\ipykernel_2440\\34256077.py:6: DeprecationWarning: Please import `maximum_filter` from the `scipy.ndimage` namespace; the `scipy.ndimage.filters` namespace is deprecated and will be removed in SciPy 2.0.0.\n",
      "  from scipy.ndimage.filters import maximum_filter, minimum_filter\n",
      "C:\\Users\\KDP-26\\AppData\\Local\\Temp\\ipykernel_2440\\34256077.py:6: DeprecationWarning: Please import `minimum_filter` from the `scipy.ndimage` namespace; the `scipy.ndimage.filters` namespace is deprecated and will be removed in SciPy 2.0.0.\n",
      "  from scipy.ndimage.filters import maximum_filter, minimum_filter\n"
     ]
    },
    {
     "data": {
      "text/plain": [
       "array([[3, 4, 5, 5, 3],\n",
       "       [3, 5, 5, 5, 7],\n",
       "       [3, 5, 5, 6, 7]])"
      ]
     },
     "execution_count": 1464,
     "metadata": {},
     "output_type": "execute_result"
    }
   ],
   "source": [
    "# 필터링 알아보기\n",
    "B = [[3,4,5,2,3],\n",
    "     [3,5,1,2,7],\n",
    "     [2,2,5,6,7]]\n",
    "B = np.array(B)\n",
    "from scipy.ndimage.filters import maximum_filter, minimum_filter\n",
    "maximum_filter(B, size=(2,2))\n"
   ]
  },
  {
   "cell_type": "code",
   "execution_count": 1465,
   "metadata": {},
   "outputs": [
    {
     "data": {
      "text/plain": [
       "array([[5, 5, 5, 7, 7],\n",
       "       [5, 5, 6, 7, 7],\n",
       "       [5, 5, 6, 7, 7]])"
      ]
     },
     "execution_count": 1465,
     "metadata": {},
     "output_type": "execute_result"
    }
   ],
   "source": [
    "maximum_filter(B, footprint=np.ones((3,3)))"
   ]
  },
  {
   "cell_type": "code",
   "execution_count": 1466,
   "metadata": {},
   "outputs": [
    {
     "data": {
      "text/plain": [
       "array([[3, 3, 4, 2, 2],\n",
       "       [3, 3, 1, 1, 2],\n",
       "       [2, 2, 1, 1, 2]])"
      ]
     },
     "execution_count": 1466,
     "metadata": {},
     "output_type": "execute_result"
    }
   ],
   "source": [
    "minimum_filter(B, size=(2,2))"
   ]
  },
  {
   "cell_type": "code",
   "execution_count": 1467,
   "metadata": {},
   "outputs": [
    {
     "data": {
      "text/plain": [
       "array([[3, 1, 1, 1, 2],\n",
       "       [2, 1, 1, 1, 2],\n",
       "       [2, 1, 1, 1, 2]])"
      ]
     },
     "execution_count": 1467,
     "metadata": {},
     "output_type": "execute_result"
    }
   ],
   "source": [
    "minimum_filter(B, footprint=np.ones((3,3)))"
   ]
  },
  {
   "cell_type": "code",
   "execution_count": 1468,
   "metadata": {},
   "outputs": [
    {
     "data": {
      "text/plain": [
       "array([[3, 4, 5, 2, 3],\n",
       "       [3, 5, 1, 2, 7],\n",
       "       [2, 2, 5, 6, 7]])"
      ]
     },
     "execution_count": 1468,
     "metadata": {},
     "output_type": "execute_result"
    }
   ],
   "source": [
    "# 풀링알아보기\n",
    "# 2다차원 배열 풀링을 통해 더 작은 배열을 만드는 방법을 알아본다.\n",
    "# 열과 행의 차원을 증가시켜서 최댓값으로 풀링을 처리하면 반환되는 결과가 행이나 열이 줄어듭니다\n",
    "import skimage.measure\n",
    "sk = skimage.measure.block_reduce(B, (1,1), np.max)\n",
    "sk"
   ]
  },
  {
   "cell_type": "code",
   "execution_count": 1469,
   "metadata": {},
   "outputs": [
    {
     "data": {
      "text/plain": [
       "array([[4, 5, 3],\n",
       "       [5, 2, 7],\n",
       "       [2, 6, 7]])"
      ]
     },
     "execution_count": 1469,
     "metadata": {},
     "output_type": "execute_result"
    }
   ],
   "source": [
    "sk = skimage.measure.block_reduce(B, (1,2), np.max)\n",
    "sk"
   ]
  },
  {
   "cell_type": "code",
   "execution_count": 1470,
   "metadata": {},
   "outputs": [
    {
     "data": {
      "text/plain": [
       "array([[3, 5, 5, 2, 7],\n",
       "       [2, 2, 5, 6, 7]])"
      ]
     },
     "execution_count": 1470,
     "metadata": {},
     "output_type": "execute_result"
    }
   ],
   "source": [
    "sk = skimage.measure.block_reduce(B, (2,1), np.max)\n",
    "sk"
   ]
  },
  {
   "cell_type": "code",
   "execution_count": 1471,
   "metadata": {},
   "outputs": [
    {
     "data": {
      "text/plain": [
       "numpy.ufunc"
      ]
     },
     "execution_count": 1471,
     "metadata": {},
     "output_type": "execute_result"
    }
   ],
   "source": [
    "#일반함수와 람다함수 사용하기\n",
    "#유니버셜 함수\n",
    "np.ufunc\n",
    "type(np.add)"
   ]
  },
  {
   "cell_type": "code",
   "execution_count": 1472,
   "metadata": {},
   "outputs": [
    {
     "name": "stdout",
     "output_type": "stream",
     "text": [
      "accumulate\n",
      "at\n",
      "identity\n",
      "nargs\n",
      "nin\n",
      "nout\n",
      "ntypes\n",
      "outer\n",
      "reduce\n",
      "reduceat\n",
      "resolve_dtypes\n",
      "signature\n",
      "types\n"
     ]
    }
   ],
   "source": [
    "for i in dir(np.ufunc):\n",
    "    if not i.startswith(\"_\"):\n",
    "        print(i)"
   ]
  },
  {
   "cell_type": "code",
   "execution_count": 1473,
   "metadata": {},
   "outputs": [
    {
     "data": {
      "text/plain": [
       "array([0, 1, 2, 3, 4, 5, 6, 7, 8, 9])"
      ]
     },
     "execution_count": 1473,
     "metadata": {},
     "output_type": "execute_result"
    }
   ],
   "source": [
    "# 유니버설 함수 add내의 reduce, reduceat 메소드로 배열의 원소를 계산합니다\n",
    "a = np.arange(10)\n",
    "a"
   ]
  },
  {
   "cell_type": "code",
   "execution_count": 1474,
   "metadata": {},
   "outputs": [],
   "source": [
    "import functools as ft"
   ]
  },
  {
   "cell_type": "code",
   "execution_count": 1475,
   "metadata": {},
   "outputs": [
    {
     "data": {
      "text/plain": [
       "45"
      ]
     },
     "execution_count": 1475,
     "metadata": {},
     "output_type": "execute_result"
    }
   ],
   "source": [
    "ft.reduce(np.add, a)"
   ]
  },
  {
   "cell_type": "code",
   "execution_count": 1476,
   "metadata": {},
   "outputs": [
    {
     "data": {
      "text/plain": [
       "45"
      ]
     },
     "execution_count": 1476,
     "metadata": {},
     "output_type": "execute_result"
    }
   ],
   "source": [
    "np.add.reduce(a)"
   ]
  },
  {
   "cell_type": "code",
   "execution_count": 1477,
   "metadata": {},
   "outputs": [
    {
     "data": {
      "text/plain": [
       "45"
      ]
     },
     "execution_count": 1477,
     "metadata": {},
     "output_type": "execute_result"
    }
   ],
   "source": [
    "a.sum()"
   ]
  },
  {
   "cell_type": "code",
   "execution_count": 1478,
   "metadata": {},
   "outputs": [
    {
     "data": {
      "text/plain": [
       "array([ 6, 39])"
      ]
     },
     "execution_count": 1478,
     "metadata": {},
     "output_type": "execute_result"
    }
   ],
   "source": [
    "np.add.reduceat(a,[0,4])"
   ]
  },
  {
   "cell_type": "code",
   "execution_count": 1479,
   "metadata": {},
   "outputs": [
    {
     "data": {
      "text/plain": [
       "6"
      ]
     },
     "execution_count": 1479,
     "metadata": {},
     "output_type": "execute_result"
    }
   ],
   "source": [
    "np.add.reduce(a[:4])"
   ]
  },
  {
   "cell_type": "code",
   "execution_count": 1480,
   "metadata": {},
   "outputs": [
    {
     "data": {
      "text/plain": [
       "39"
      ]
     },
     "execution_count": 1480,
     "metadata": {},
     "output_type": "execute_result"
    }
   ],
   "source": [
    "np.add.reduce(a[4:])"
   ]
  },
  {
   "cell_type": "code",
   "execution_count": 1481,
   "metadata": {},
   "outputs": [],
   "source": [
    "# 사용자 유니버셜 함수 정의하기\n",
    "import operator as op\n"
   ]
  },
  {
   "cell_type": "code",
   "execution_count": 1482,
   "metadata": {},
   "outputs": [],
   "source": [
    "# vectorize 함수 사용 하기\n"
   ]
  },
  {
   "cell_type": "code",
   "execution_count": 1483,
   "metadata": {},
   "outputs": [],
   "source": [
    "# 함수를 전달 받아서 배열 생성하기\n"
   ]
  }
 ],
 "metadata": {
  "kernelspec": {
   "display_name": "base",
   "language": "python",
   "name": "python3"
  },
  "language_info": {
   "codemirror_mode": {
    "name": "ipython",
    "version": 3
   },
   "file_extension": ".py",
   "mimetype": "text/x-python",
   "name": "python",
   "nbconvert_exporter": "python",
   "pygments_lexer": "ipython3",
   "version": "3.11.7"
  }
 },
 "nbformat": 4,
 "nbformat_minor": 2
}
